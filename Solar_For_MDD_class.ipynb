{
  "cells": [
    {
      "cell_type": "code",
      "execution_count": 1,
      "metadata": {
        "id": "cWXTm7ibxwL0"
      },
      "outputs": [],
      "source": [
        "import pandas as pd\n",
        "import numpy as np\n",
        "import seaborn as sns                       #visualisation\n",
        "import matplotlib.pyplot as plt             #visualisation\n",
        "%matplotlib inline\n",
        "sns.set(color_codes=True)\n"
      ]
    },
    {
      "cell_type": "code",
      "execution_count": null,
      "metadata": {},
      "outputs": [],
      "source": []
    },
    {
      "cell_type": "markdown",
      "metadata": {
        "id": "4pqERQ7yzzjo"
      },
      "source": [
        "# Pandas is a popular library for the Python. It provides easy-to-use data structures, such as DataFrame and Series, along with a variety of functions for reading, writing, and manipulating structured data."
      ]
    },
    {
      "cell_type": "code",
      "execution_count": 2,
      "metadata": {
        "id": "KAb95Qay0U2g"
      },
      "outputs": [],
      "source": [
        "\n",
        "\n",
        "# Creating a DataFrame object\n",
        "data = {'Name': ['Alice', 'Bob', 'Charlie'],\n",
        "        'Age': [25, 30, 22],\n",
        "        'City': ['New York', 'San Francisco', 'Los Angeles']}\n",
        "\n",
        "df = pd.DataFrame(data)\n",
        "\n",
        "# 'df' is now an object of the DataFrame class\n"
      ]
    },
    {
      "cell_type": "code",
      "execution_count": 3,
      "metadata": {
        "colab": {
          "base_uri": "https://localhost:8080/"
        },
        "id": "MLuZ3dJt0Zyu",
        "outputId": "00b6c4b8-5722-420f-dec8-143c64592f3e"
      },
      "outputs": [
        {
          "data": {
            "text/plain": [
              "(3, 3)"
            ]
          },
          "execution_count": 3,
          "metadata": {},
          "output_type": "execute_result"
        }
      ],
      "source": [
        "df.shape"
      ]
    },
    {
      "cell_type": "code",
      "execution_count": 4,
      "metadata": {
        "colab": {
          "base_uri": "https://localhost:8080/"
        },
        "id": "Tx-pLGrw48S4",
        "outputId": "80db737c-4151-4026-948e-2e276e5fee9d"
      },
      "outputs": [
        {
          "name": "stdout",
          "output_type": "stream",
          "text": [
            "      Name  Age           City\n",
            "0    Alice   25       New York\n",
            "1      Bob   30  San Francisco\n",
            "2  Charlie   22    Los Angeles\n"
          ]
        }
      ],
      "source": [
        "print(df)"
      ]
    },
    {
      "cell_type": "markdown",
      "metadata": {
        "id": "8AQr7Tpm44Yu"
      },
      "source": []
    },
    {
      "cell_type": "markdown",
      "metadata": {
        "id": "QTG1hbhGgLID"
      },
      "source": [
        "# **The DataSet upload**"
      ]
    },
    {
      "cell_type": "code",
      "execution_count": 5,
      "metadata": {
        "id": "tLWR1PkwJwPd"
      },
      "outputs": [],
      "source": [
        "df = pd.read_csv(\"./Solar panel.csv\")"
      ]
    },
    {
      "cell_type": "code",
      "execution_count": 6,
      "metadata": {
        "colab": {
          "base_uri": "https://localhost:8080/"
        },
        "id": "lxQh7hzST_Bf",
        "outputId": "01ff4a6e-eb7b-4a13-cdb3-8a522e58373f"
      },
      "outputs": [
        {
          "name": "stdout",
          "output_type": "stream",
          "text": [
            "The size of df is 79 rows x 9 columns.\n"
          ]
        }
      ],
      "source": [
        "# Get the size of the original DataFrame\n",
        "rows_original, columns_original = df.shape\n",
        "\n",
        "# Display the size of the original DataFrame\n",
        "print(f\"The size of df is {rows_original} rows x {columns_original} columns.\")\n"
      ]
    },
    {
      "cell_type": "markdown",
      "metadata": {
        "id": "C5mOkPNzPddY"
      },
      "source": [
        "# Display your dataframe"
      ]
    },
    {
      "cell_type": "code",
      "execution_count": 7,
      "metadata": {
        "colab": {
          "base_uri": "https://localhost:8080/",
          "height": 424
        },
        "id": "QfrXQ6FWPVV_",
        "outputId": "67045ac3-0694-424e-96e1-1bb81d2e0687"
      },
      "outputs": [
        {
          "data": {
            "text/html": [
              "<div>\n",
              "<style scoped>\n",
              "    .dataframe tbody tr th:only-of-type {\n",
              "        vertical-align: middle;\n",
              "    }\n",
              "\n",
              "    .dataframe tbody tr th {\n",
              "        vertical-align: top;\n",
              "    }\n",
              "\n",
              "    .dataframe thead th {\n",
              "        text-align: right;\n",
              "    }\n",
              "</style>\n",
              "<table border=\"1\" class=\"dataframe\">\n",
              "  <thead>\n",
              "    <tr style=\"text-align: right;\">\n",
              "      <th></th>\n",
              "      <th>Time</th>\n",
              "      <th>Temp</th>\n",
              "      <th>Wind speed</th>\n",
              "      <th>Humidity</th>\n",
              "      <th>Air pressure</th>\n",
              "      <th>Pmax</th>\n",
              "      <th>Imax</th>\n",
              "      <th>Umax</th>\n",
              "      <th>FF_raw</th>\n",
              "    </tr>\n",
              "  </thead>\n",
              "  <tbody>\n",
              "    <tr>\n",
              "      <th>0</th>\n",
              "      <td>5.000000</td>\n",
              "      <td>28.000000</td>\n",
              "      <td>15.000000</td>\n",
              "      <td>21.000000</td>\n",
              "      <td>1001.000000</td>\n",
              "      <td>0.17</td>\n",
              "      <td>0.081</td>\n",
              "      <td>2.778</td>\n",
              "      <td>0.764</td>\n",
              "    </tr>\n",
              "    <tr>\n",
              "      <th>1</th>\n",
              "      <td>5.166667</td>\n",
              "      <td>28.166667</td>\n",
              "      <td>14.666667</td>\n",
              "      <td>20.833333</td>\n",
              "      <td>1001.166667</td>\n",
              "      <td>0.34</td>\n",
              "      <td>0.149</td>\n",
              "      <td>2.908</td>\n",
              "      <td>0.775</td>\n",
              "    </tr>\n",
              "    <tr>\n",
              "      <th>2</th>\n",
              "      <td>5.333333</td>\n",
              "      <td>28.333333</td>\n",
              "      <td>14.333333</td>\n",
              "      <td>20.666667</td>\n",
              "      <td>1001.333333</td>\n",
              "      <td>0.51</td>\n",
              "      <td>0.220</td>\n",
              "      <td>2.964</td>\n",
              "      <td>0.782</td>\n",
              "    </tr>\n",
              "    <tr>\n",
              "      <th>3</th>\n",
              "      <td>5.500000</td>\n",
              "      <td>28.500000</td>\n",
              "      <td>14.000000</td>\n",
              "      <td>20.500000</td>\n",
              "      <td>1001.500000</td>\n",
              "      <td>0.69</td>\n",
              "      <td>0.294</td>\n",
              "      <td>3.037</td>\n",
              "      <td>0.778</td>\n",
              "    </tr>\n",
              "    <tr>\n",
              "      <th>4</th>\n",
              "      <td>5.666667</td>\n",
              "      <td>28.666667</td>\n",
              "      <td>13.666667</td>\n",
              "      <td>20.333333</td>\n",
              "      <td>1001.666667</td>\n",
              "      <td>0.89</td>\n",
              "      <td>0.364</td>\n",
              "      <td>3.077</td>\n",
              "      <td>0.790</td>\n",
              "    </tr>\n",
              "    <tr>\n",
              "      <th>...</th>\n",
              "      <td>...</td>\n",
              "      <td>...</td>\n",
              "      <td>...</td>\n",
              "      <td>...</td>\n",
              "      <td>...</td>\n",
              "      <td>...</td>\n",
              "      <td>...</td>\n",
              "      <td>...</td>\n",
              "      <td>...</td>\n",
              "    </tr>\n",
              "    <tr>\n",
              "      <th>74</th>\n",
              "      <td>17.333333</td>\n",
              "      <td>39.666667</td>\n",
              "      <td>24.666667</td>\n",
              "      <td>10.000000</td>\n",
              "      <td>1000.000000</td>\n",
              "      <td>1.48</td>\n",
              "      <td>0.630</td>\n",
              "      <td>3.057</td>\n",
              "      <td>0.767</td>\n",
              "    </tr>\n",
              "    <tr>\n",
              "      <th>75</th>\n",
              "      <td>17.500000</td>\n",
              "      <td>39.500000</td>\n",
              "      <td>24.000000</td>\n",
              "      <td>10.000000</td>\n",
              "      <td>1000.000000</td>\n",
              "      <td>1.18</td>\n",
              "      <td>0.508</td>\n",
              "      <td>3.026</td>\n",
              "      <td>0.769</td>\n",
              "    </tr>\n",
              "    <tr>\n",
              "      <th>76</th>\n",
              "      <td>17.666667</td>\n",
              "      <td>39.333333</td>\n",
              "      <td>23.333333</td>\n",
              "      <td>10.000000</td>\n",
              "      <td>1000.000000</td>\n",
              "      <td>0.95</td>\n",
              "      <td>0.410</td>\n",
              "      <td>3.000</td>\n",
              "      <td>0.773</td>\n",
              "    </tr>\n",
              "    <tr>\n",
              "      <th>77</th>\n",
              "      <td>17.833333</td>\n",
              "      <td>39.166667</td>\n",
              "      <td>22.666667</td>\n",
              "      <td>10.000000</td>\n",
              "      <td>1000.000000</td>\n",
              "      <td>0.74</td>\n",
              "      <td>0.325</td>\n",
              "      <td>2.966</td>\n",
              "      <td>0.769</td>\n",
              "    </tr>\n",
              "    <tr>\n",
              "      <th>78</th>\n",
              "      <td>18.000000</td>\n",
              "      <td>39.000000</td>\n",
              "      <td>22.000000</td>\n",
              "      <td>10.000000</td>\n",
              "      <td>1000.000000</td>\n",
              "      <td>0.52</td>\n",
              "      <td>0.232</td>\n",
              "      <td>2.908</td>\n",
              "      <td>0.769</td>\n",
              "    </tr>\n",
              "  </tbody>\n",
              "</table>\n",
              "<p>79 rows × 9 columns</p>\n",
              "</div>"
            ],
            "text/plain": [
              "         Time       Temp  Wind speed   Humidity  Air pressure  Pmax   Imax  \\\n",
              "0    5.000000  28.000000   15.000000  21.000000   1001.000000  0.17  0.081   \n",
              "1    5.166667  28.166667   14.666667  20.833333   1001.166667  0.34  0.149   \n",
              "2    5.333333  28.333333   14.333333  20.666667   1001.333333  0.51  0.220   \n",
              "3    5.500000  28.500000   14.000000  20.500000   1001.500000  0.69  0.294   \n",
              "4    5.666667  28.666667   13.666667  20.333333   1001.666667  0.89  0.364   \n",
              "..        ...        ...         ...        ...           ...   ...    ...   \n",
              "74  17.333333  39.666667   24.666667  10.000000   1000.000000  1.48  0.630   \n",
              "75  17.500000  39.500000   24.000000  10.000000   1000.000000  1.18  0.508   \n",
              "76  17.666667  39.333333   23.333333  10.000000   1000.000000  0.95  0.410   \n",
              "77  17.833333  39.166667   22.666667  10.000000   1000.000000  0.74  0.325   \n",
              "78  18.000000  39.000000   22.000000  10.000000   1000.000000  0.52  0.232   \n",
              "\n",
              "     Umax  FF_raw  \n",
              "0   2.778   0.764  \n",
              "1   2.908   0.775  \n",
              "2   2.964   0.782  \n",
              "3   3.037   0.778  \n",
              "4   3.077   0.790  \n",
              "..    ...     ...  \n",
              "74  3.057   0.767  \n",
              "75  3.026   0.769  \n",
              "76  3.000   0.773  \n",
              "77  2.966   0.769  \n",
              "78  2.908   0.769  \n",
              "\n",
              "[79 rows x 9 columns]"
            ]
          },
          "execution_count": 7,
          "metadata": {},
          "output_type": "execute_result"
        }
      ],
      "source": [
        "df"
      ]
    },
    {
      "cell_type": "markdown",
      "metadata": {
        "id": "Wl3rTzBiLi6z"
      },
      "source": [
        "# **Check for missing values in your DataFrame using the isnull() function.**"
      ]
    },
    {
      "cell_type": "markdown",
      "metadata": {
        "id": "sDovu8UMLjRT"
      },
      "source": []
    },
    {
      "cell_type": "code",
      "execution_count": 8,
      "metadata": {
        "colab": {
          "base_uri": "https://localhost:8080/"
        },
        "id": "zf6vfXKjLj4i",
        "outputId": "5a29b130-8129-4f21-8b78-95030a0fe332"
      },
      "outputs": [
        {
          "name": "stdout",
          "output_type": "stream",
          "text": [
            "Time            0\n",
            "Temp            0\n",
            "Wind speed      0\n",
            "Humidity        0\n",
            "Air pressure    0\n",
            "Pmax            0\n",
            "Imax            0\n",
            "Umax            0\n",
            "FF_raw          0\n",
            "dtype: int64\n"
          ]
        }
      ],
      "source": [
        "# Check for missing values in the DataFrame\n",
        "missing_values = df.isnull().sum()\n",
        "\n",
        "# Display the count of missing values for each column\n",
        "print(missing_values)\n"
      ]
    },
    {
      "cell_type": "markdown",
      "metadata": {
        "id": "r7xiXfl5QKrZ"
      },
      "source": [
        "# To check for outliers in your DataFrame, you can use various methods. One common method is to use the Interquartile Range (IQR)."
      ]
    },
    {
      "cell_type": "code",
      "execution_count": 9,
      "metadata": {
        "colab": {
          "base_uri": "https://localhost:8080/"
        },
        "id": "B7nQN3LHKk7r",
        "outputId": "00f68d1e-226b-410e-fb05-c3ba9a98ac94"
      },
      "outputs": [
        {
          "name": "stdout",
          "output_type": "stream",
          "text": [
            "         Time       Temp  Wind speed   Humidity  Air pressure   Pmax   Imax  \\\n",
            "0    5.000000  28.000000   15.000000  21.000000   1001.000000   0.17  0.081   \n",
            "1    5.166667  28.166667   14.666667  20.833333   1001.166667   0.34  0.149   \n",
            "2    5.333333  28.333333   14.333333  20.666667   1001.333333   0.51  0.220   \n",
            "3    5.500000  28.500000   14.000000  20.500000   1001.500000   0.69  0.294   \n",
            "4    5.666667  28.666667   13.666667  20.333333   1001.666667   0.89  0.364   \n",
            "5    5.833333  28.833333   13.333333  20.166667   1001.833333   1.21  0.489   \n",
            "6    6.000000  29.000000   13.000000  20.000000   1002.000000   1.63  0.660   \n",
            "7    6.166667  29.500000   13.666667  19.166667   1002.000000   2.19  0.872   \n",
            "8    6.333333  30.000000   14.333333  18.333333   1002.000000   2.84  1.126   \n",
            "9    6.500000  30.500000   15.000000  17.500000   1002.000000   3.58  1.415   \n",
            "10   6.666667  31.000000   15.666667  16.666667   1002.000000   4.34  1.722   \n",
            "11   6.833333  31.500000   16.333333  15.833333   1002.000000   5.17  2.050   \n",
            "12   7.000000  32.000000   17.000000  15.000000   1002.000000   5.97  2.377   \n",
            "58  14.666667  43.000000   38.333333   7.000000   1001.000000  12.84  5.636   \n",
            "59  14.833333  43.000000   43.166667   7.000000   1001.000000  12.09  5.269   \n",
            "60  15.000000  43.000000   48.000000   7.000000   1001.000000  11.56  4.976   \n",
            "61  15.166667  42.833333   44.666667   7.333333   1000.833333  10.86  4.664   \n",
            "62  15.333333  42.666667   41.333333   7.666667   1000.666667  10.27  4.376   \n",
            "63  15.500000  42.500000   38.000000   8.000000   1000.500000   9.26  3.902   \n",
            "73  17.166667  39.833333   25.333333  10.000000   1000.000000   1.74  0.736   \n",
            "74  17.333333  39.666667   24.666667  10.000000   1000.000000   1.48  0.630   \n",
            "75  17.500000  39.500000   24.000000  10.000000   1000.000000   1.18  0.508   \n",
            "76  17.666667  39.333333   23.333333  10.000000   1000.000000   0.95  0.410   \n",
            "77  17.833333  39.166667   22.666667  10.000000   1000.000000   0.74  0.325   \n",
            "78  18.000000  39.000000   22.000000  10.000000   1000.000000   0.52  0.232   \n",
            "\n",
            "     Umax  FF_raw  \n",
            "0   2.778   0.764  \n",
            "1   2.908   0.775  \n",
            "2   2.964   0.782  \n",
            "3   3.037   0.778  \n",
            "4   3.077   0.790  \n",
            "5   3.124   0.791  \n",
            "6   3.162   0.783  \n",
            "7   3.203   0.783  \n",
            "8   3.240   0.778  \n",
            "9   3.268   0.774  \n",
            "10  3.268   0.772  \n",
            "11  3.294   0.766  \n",
            "12  3.289   0.763  \n",
            "58  3.217   0.708  \n",
            "59  3.209   0.715  \n",
            "60  3.221   0.721  \n",
            "61  3.221   0.723  \n",
            "62  3.221   0.728  \n",
            "63  3.236   0.734  \n",
            "73  3.073   0.771  \n",
            "74  3.057   0.767  \n",
            "75  3.026   0.769  \n",
            "76  3.000   0.773  \n",
            "77  2.966   0.769  \n",
            "78  2.908   0.769  \n"
          ]
        }
      ],
      "source": [
        "\n",
        "\n",
        "# Assuming df is your DataFrame\n",
        "# Select numerical columns for outlier detection\n",
        "numerical_columns = df.select_dtypes(include=['float64']).columns\n",
        "\n",
        "# Calculate the IQR for each numerical column\n",
        "Q1 = df[numerical_columns].quantile(0.25)\n",
        "Q3 = df[numerical_columns].quantile(0.75)\n",
        "IQR = Q3 - Q1\n",
        "\n",
        "# Define a threshold to identify outliers\n",
        "threshold = 1.5\n",
        "\n",
        "# Create a boolean mask for outliers\n",
        "outliers_mask = ((df[numerical_columns] < (Q1 - threshold * IQR)) | (df[numerical_columns] > (Q3 + threshold * IQR)))\n",
        "\n",
        "# Display rows with outliers\n",
        "outliers = df[outliers_mask.any(axis=1)]\n",
        "print(outliers)\n"
      ]
    },
    {
      "cell_type": "markdown",
      "metadata": {
        "id": "sEZh0jbJLKsb"
      },
      "source": []
    },
    {
      "cell_type": "markdown",
      "metadata": {
        "id": "UK9utVhKLLFT"
      },
      "source": [
        "# Remove outliers from your DataFrame"
      ]
    },
    {
      "cell_type": "code",
      "execution_count": 10,
      "metadata": {
        "colab": {
          "base_uri": "https://localhost:8080/"
        },
        "id": "5C2BQ60-LLeT",
        "outputId": "e4673087-ac96-4009-c010-04f2af31553c"
      },
      "outputs": [
        {
          "name": "stdout",
          "output_type": "stream",
          "text": [
            "         Time       Temp  Wind speed   Humidity  Air pressure   Pmax   Imax  \\\n",
            "13   7.166667  32.500000   17.333333  14.333333   1002.000000   6.78  2.732   \n",
            "14   7.333333  33.000000   17.666667  13.666667   1002.000000   7.61  3.078   \n",
            "15   7.500000  33.500000   18.000000  13.000000   1002.000000   8.40  3.430   \n",
            "16   7.666667  34.000000   18.333333  12.333333   1002.000000   9.18  3.765   \n",
            "17   7.833333  34.500000   18.666667  11.666667   1002.000000   9.95  4.102   \n",
            "18   8.000000  35.000000   19.000000  11.000000   1002.000000  10.61  4.430   \n",
            "19   8.166667  35.500000   19.000000  10.500000   1002.000000  11.21  4.743   \n",
            "20   8.333333  36.000000   19.000000  10.000000   1002.000000  11.80  5.063   \n",
            "21   8.500000  36.500000   19.000000   9.500000   1002.000000  12.34  5.346   \n",
            "22   8.666667  37.000000   19.000000   9.000000   1002.000000  12.87  5.625   \n",
            "23   8.833333  37.500000   19.000000   8.500000   1002.000000  13.41  5.912   \n",
            "24   9.000000  38.000000   19.000000   8.000000   1002.000000  13.92  6.167   \n",
            "25   9.166667  38.666667   19.000000   7.833333   1002.000000  14.27  6.361   \n",
            "26   9.333333  39.333333   19.000000   7.666667   1002.000000  14.73  6.614   \n",
            "27   9.500000  40.000000   19.000000   7.500000   1002.000000  15.28  6.897   \n",
            "28   9.666667  40.666667   19.000000   7.333333   1002.000000  15.39  7.030   \n",
            "29   9.833333  41.333333   19.000000   7.166667   1002.000000  15.65  7.153   \n",
            "30  10.000000  42.000000   19.000000   7.000000   1002.000000  15.98  7.344   \n",
            "31  10.166667  42.166667   20.166667   7.166667   1002.000000  16.30  7.535   \n",
            "32  10.333333  42.333333   21.333333   7.333333   1002.000000  16.36  7.584   \n",
            "33  10.500000  42.500000   22.500000   7.500000   1002.000000  16.83  7.812   \n",
            "34  10.666667  42.666667   23.666667   7.666667   1002.000000  17.17  7.962   \n",
            "35  10.833333  42.833333   24.833333   7.833333   1002.000000  17.33  8.043   \n",
            "36  11.000000  43.000000   26.000000   8.000000   1002.000000  17.27  8.131   \n",
            "37  11.166667  43.000000   26.000000   8.000000   1002.000000  17.46  8.272   \n",
            "38  11.333333  43.000000   26.000000   8.000000   1002.000000  17.49  8.256   \n",
            "39  11.500000  43.000000   26.000000   8.000000   1002.000000  17.61  8.317   \n",
            "40  11.666667  43.000000   26.000000   8.000000   1002.000000  17.64  8.276   \n",
            "41  11.833333  43.000000   26.000000   8.000000   1002.000000  17.34  8.227   \n",
            "42  12.000000  43.000000   26.000000   8.000000   1002.000000  17.47  8.226   \n",
            "43  12.166667  43.000000   25.666667   7.833333   1001.833333  17.68  8.330   \n",
            "44  12.333333  43.000000   25.333333   7.666667   1001.666667  17.38  8.219   \n",
            "45  12.500000  43.000000   25.000000   7.500000   1001.500000  17.33  8.204   \n",
            "46  12.666667  43.000000   24.666667   7.333333   1001.333333  16.40  7.722   \n",
            "47  12.833333  43.000000   24.333333   7.166667   1001.166667  16.95  7.973   \n",
            "48  13.000000  43.000000   24.000000   7.000000   1001.000000  16.82  7.820   \n",
            "49  13.166667  43.000000   23.166667   7.000000   1001.000000  16.30  7.485   \n",
            "50  13.333333  43.000000   22.333333   7.000000   1001.000000  16.36  7.467   \n",
            "51  13.500000  43.000000   21.500000   7.000000   1001.000000  16.03  7.250   \n",
            "52  13.666667  43.000000   20.666667   7.000000   1001.000000  15.73  7.096   \n",
            "53  13.833333  43.000000   19.833333   7.000000   1001.000000  15.25  6.873   \n",
            "54  14.000000  43.000000   19.000000   7.000000   1001.000000  14.92  6.661   \n",
            "55  14.166667  43.000000   23.833333   7.000000   1001.000000  14.38  6.412   \n",
            "56  14.333333  43.000000   28.666667   7.000000   1001.000000  13.88  6.102   \n",
            "57  14.500000  43.000000   33.500000   7.000000   1001.000000  13.37  5.917   \n",
            "64  15.666667  42.333333   34.666667   8.333333   1000.333333   8.27  3.437   \n",
            "65  15.833333  42.166667   31.333333   8.666667   1000.166667   5.80  2.363   \n",
            "66  16.000000  42.000000   28.000000   9.000000   1000.000000   3.44  1.459   \n",
            "67  16.166667  41.666667   27.666667   9.166667   1000.000000   6.14  2.512   \n",
            "68  16.333333  41.333333   27.333333   9.333333   1000.000000   3.92  1.623   \n",
            "69  16.500000  41.000000   27.000000   9.500000   1000.000000   4.25  1.742   \n",
            "70  16.666667  40.666667   26.666667   9.666667   1000.000000   3.84  1.569   \n",
            "71  16.833333  40.333333   26.333333   9.833333   1000.000000   3.03  1.251   \n",
            "72  17.000000  40.000000   26.000000  10.000000   1000.000000   2.45  1.013   \n",
            "\n",
            "     Umax  FF_raw  \n",
            "13  3.280   0.756  \n",
            "14  3.289   0.752  \n",
            "15  3.291   0.745  \n",
            "16  3.289   0.741  \n",
            "17  3.289   0.737  \n",
            "18  3.280   0.730  \n",
            "19  3.264   0.724  \n",
            "20  3.250   0.717  \n",
            "21  3.244   0.712  \n",
            "22  3.238   0.707  \n",
            "23  3.219   0.705  \n",
            "24  3.223   0.700  \n",
            "25  3.217   0.697  \n",
            "26  3.215   0.693  \n",
            "27  3.213   0.690  \n",
            "28  3.197   0.685  \n",
            "29  3.189   0.686  \n",
            "30  3.197   0.680  \n",
            "31  3.197   0.676  \n",
            "32  3.185   0.677  \n",
            "33  3.197   0.674  \n",
            "34  3.207   0.672  \n",
            "35  3.207   0.672  \n",
            "36  3.179   0.668  \n",
            "37  3.168   0.666  \n",
            "38  3.190   0.664  \n",
            "39  3.191   0.663  \n",
            "40  3.201   0.666  \n",
            "41  3.185   0.662  \n",
            "42  3.185   0.667  \n",
            "43  3.195   0.664  \n",
            "44  3.179   0.665  \n",
            "45  3.179   0.665  \n",
            "46  3.171   0.670  \n",
            "47  3.187   0.667  \n",
            "48  3.201   0.672  \n",
            "49  3.205   0.680  \n",
            "50  3.217   0.681  \n",
            "51  3.225   0.686  \n",
            "52  3.221   0.688  \n",
            "53  3.219   0.689  \n",
            "54  3.225   0.694  \n",
            "55  3.219   0.697  \n",
            "56  3.240   0.702  \n",
            "57  3.219   0.702  \n",
            "64  3.238   0.743  \n",
            "65  3.213   0.764  \n",
            "66  3.136   0.752  \n",
            "67  3.234   0.756  \n",
            "68  3.152   0.766  \n",
            "69  3.183   0.766  \n",
            "70  3.189   0.768  \n",
            "71  3.142   0.770  \n",
            "72  3.126   0.772  \n"
          ]
        }
      ],
      "source": [
        "# Remove outliers from the original DataFrame\n",
        "df_no_outliers = df[~outliers_mask.any(axis=1)]\n",
        "\n",
        "# Display the new DataFrame without outliers\n",
        "print(df_no_outliers)\n"
      ]
    },
    {
      "cell_type": "code",
      "execution_count": 11,
      "metadata": {
        "colab": {
          "base_uri": "https://localhost:8080/"
        },
        "id": "dxC3iVuHTw8Y",
        "outputId": "768d20a8-5927-4bc2-be1d-0825c49d68a0"
      },
      "outputs": [
        {
          "name": "stdout",
          "output_type": "stream",
          "text": [
            "The size of df_no_outliers is 54 rows x 9 columns.\n"
          ]
        }
      ],
      "source": [
        "# Get the size of the DataFrame without outliers\n",
        "rows, columns = df_no_outliers.shape\n",
        "\n",
        "# Display the size of the DataFrame\n",
        "print(f\"The size of df_no_outliers is {rows} rows x {columns} columns.\")\n"
      ]
    },
    {
      "cell_type": "markdown",
      "metadata": {
        "id": "ap3_GQfJP2IP"
      },
      "source": []
    },
    {
      "cell_type": "markdown",
      "metadata": {
        "id": "h9kFbKllP2hV"
      },
      "source": [
        "# You can use Min-Max Scaling to normalize the data to the range [0, 1]"
      ]
    },
    {
      "cell_type": "markdown",
      "metadata": {
        "id": "-VPehtRCP261"
      },
      "source": []
    },
    {
      "cell_type": "code",
      "execution_count": 12,
      "metadata": {
        "colab": {
          "base_uri": "https://localhost:8080/"
        },
        "id": "ZJMT0kMLP5Ut",
        "outputId": "b17546bb-7be5-4e42-978d-98cf8c15c576"
      },
      "outputs": [
        {
          "name": "stdout",
          "output_type": "stream",
          "text": [
            "        Time      Temp  Wind speed  Humidity  Air pressure      Pmax  \\\n",
            "0   0.000000  0.000000    0.000000  1.000000      1.000000  0.284307   \n",
            "1   0.016949  0.047619    0.019231  0.909091      1.000000  0.338805   \n",
            "2   0.033898  0.095238    0.038462  0.818182      1.000000  0.390676   \n",
            "3   0.050847  0.142857    0.057692  0.727273      1.000000  0.441891   \n",
            "4   0.067797  0.190476    0.076923  0.636364      1.000000  0.492449   \n",
            "5   0.084746  0.238095    0.096154  0.545455      1.000000  0.535785   \n",
            "6   0.101695  0.285714    0.096154  0.477273      1.000000  0.575181   \n",
            "7   0.118644  0.333333    0.096154  0.409091      1.000000  0.613920   \n",
            "8   0.135593  0.380952    0.096154  0.340909      1.000000  0.649376   \n",
            "9   0.152542  0.428571    0.096154  0.272727      1.000000  0.684176   \n",
            "10  0.169492  0.476190    0.096154  0.204545      1.000000  0.719632   \n",
            "11  0.186441  0.523810    0.096154  0.136364      1.000000  0.753119   \n",
            "12  0.203390  0.587302    0.096154  0.113636      1.000000  0.776100   \n",
            "13  0.220339  0.650794    0.096154  0.090909      1.000000  0.806303   \n",
            "14  0.237288  0.714286    0.096154  0.068182      1.000000  0.842416   \n",
            "15  0.254237  0.777778    0.096154  0.045455      1.000000  0.849639   \n",
            "16  0.271186  0.841270    0.096154  0.022727      1.000000  0.866710   \n",
            "17  0.288136  0.904762    0.096154  0.000000      1.000000  0.888378   \n",
            "18  0.305085  0.920635    0.163462  0.022727      1.000000  0.909389   \n",
            "19  0.322034  0.936508    0.230769  0.045455      1.000000  0.913329   \n",
            "20  0.338983  0.952381    0.298077  0.068182      1.000000  0.944189   \n",
            "21  0.355932  0.968254    0.365385  0.090909      1.000000  0.966513   \n",
            "22  0.372881  0.984127    0.432692  0.113636      1.000000  0.977019   \n",
            "23  0.389831  1.000000    0.500000  0.136364      1.000000  0.973079   \n",
            "24  0.406780  1.000000    0.500000  0.136364      1.000000  0.985555   \n",
            "25  0.423729  1.000000    0.500000  0.136364      1.000000  0.987525   \n",
            "26  0.440678  1.000000    0.500000  0.136364      1.000000  0.995404   \n",
            "27  0.457627  1.000000    0.500000  0.136364      1.000000  0.997374   \n",
            "28  0.474576  1.000000    0.500000  0.136364      1.000000  0.977676   \n",
            "29  0.491525  1.000000    0.500000  0.136364      1.000000  0.986211   \n",
            "30  0.508475  1.000000    0.480769  0.113636      0.916667  1.000000   \n",
            "31  0.525424  1.000000    0.461538  0.090909      0.833333  0.980302   \n",
            "32  0.542373  1.000000    0.442308  0.068182      0.750000  0.977019   \n",
            "33  0.559322  1.000000    0.423077  0.045455      0.666667  0.915955   \n",
            "34  0.576271  1.000000    0.403846  0.022727      0.583333  0.952068   \n",
            "35  0.593220  1.000000    0.384615  0.000000      0.500000  0.943533   \n",
            "36  0.610169  1.000000    0.336538  0.000000      0.500000  0.909389   \n",
            "37  0.627119  1.000000    0.288462  0.000000      0.500000  0.913329   \n",
            "38  0.644068  1.000000    0.240385  0.000000      0.500000  0.891661   \n",
            "39  0.661017  1.000000    0.192308  0.000000      0.500000  0.871963   \n",
            "40  0.677966  1.000000    0.144231  0.000000      0.500000  0.840446   \n",
            "41  0.694915  1.000000    0.096154  0.000000      0.500000  0.818779   \n",
            "42  0.711864  1.000000    0.375000  0.000000      0.500000  0.783322   \n",
            "43  0.728814  1.000000    0.653846  0.000000      0.500000  0.750492   \n",
            "44  0.745763  1.000000    0.932692  0.000000      0.500000  0.717006   \n",
            "45  0.864407  0.936508    1.000000  0.181818      0.166667  0.382141   \n",
            "46  0.881356  0.920635    0.807692  0.227273      0.083333  0.219961   \n",
            "47  0.898305  0.904762    0.615385  0.272727      0.000000  0.065003   \n",
            "48  0.915254  0.873016    0.596154  0.295455      0.000000  0.242285   \n",
            "49  0.932203  0.841270    0.576923  0.318182      0.000000  0.096520   \n",
            "50  0.949153  0.809524    0.557692  0.340909      0.000000  0.118188   \n",
            "51  0.966102  0.777778    0.538462  0.363636      0.000000  0.091267   \n",
            "52  0.983051  0.746032    0.519231  0.386364      0.000000  0.038083   \n",
            "53  1.000000  0.714286    0.500000  0.409091      0.000000  0.000000   \n",
            "\n",
            "        Imax      Umax    FF_raw  \n",
            "0   0.234932  0.933333  0.854545  \n",
            "1   0.282219  0.987879  0.818182  \n",
            "2   0.330327  1.000000  0.754545  \n",
            "3   0.376110  0.987879  0.718182  \n",
            "4   0.422168  0.987879  0.681818  \n",
            "5   0.466995  0.933333  0.618182  \n",
            "6   0.509772  0.836364  0.563636  \n",
            "7   0.553506  0.751515  0.500000  \n",
            "8   0.592183  0.715152  0.454545  \n",
            "9   0.630313  0.678788  0.409091  \n",
            "10  0.669537  0.563636  0.390909  \n",
            "11  0.704387  0.587879  0.345455  \n",
            "12  0.730901  0.551515  0.318182  \n",
            "13  0.765478  0.539394  0.281818  \n",
            "14  0.804155  0.527273  0.254545  \n",
            "15  0.822332  0.430303  0.209091  \n",
            "16  0.839142  0.381818  0.218182  \n",
            "17  0.865245  0.430303  0.163636  \n",
            "18  0.891349  0.430303  0.127273  \n",
            "19  0.898046  0.357576  0.136364  \n",
            "20  0.929206  0.430303  0.109091  \n",
            "21  0.949706  0.490909  0.090909  \n",
            "22  0.960776  0.490909  0.090909  \n",
            "23  0.972803  0.321212  0.054545  \n",
            "24  0.992073  0.254545  0.036364  \n",
            "25  0.989887  0.387879  0.018182  \n",
            "26  0.998223  0.393939  0.009091  \n",
            "27  0.992620  0.454545  0.036364  \n",
            "28  0.985923  0.357576  0.000000  \n",
            "29  0.985787  0.357576  0.045455  \n",
            "30  1.000000  0.418182  0.018182  \n",
            "31  0.984830  0.321212  0.027273  \n",
            "32  0.982780  0.321212  0.027273  \n",
            "33  0.916906  0.272727  0.072727  \n",
            "34  0.951210  0.369697  0.045455  \n",
            "35  0.930299  0.454545  0.090909  \n",
            "36  0.884516  0.478788  0.163636  \n",
            "37  0.882055  0.551515  0.172727  \n",
            "38  0.852399  0.600000  0.218182  \n",
            "39  0.831352  0.575758  0.236364  \n",
            "40  0.800875  0.563636  0.245455  \n",
            "41  0.771901  0.600000  0.290909  \n",
            "42  0.737871  0.563636  0.318182  \n",
            "43  0.695504  0.690909  0.363636  \n",
            "44  0.670220  0.563636  0.363636  \n",
            "45  0.331283  0.678788  0.736364  \n",
            "46  0.184502  0.527273  0.927273  \n",
            "47  0.060954  0.060606  0.818182  \n",
            "48  0.204865  0.654545  0.854545  \n",
            "49  0.083368  0.157576  0.945455  \n",
            "50  0.099631  0.345455  0.945455  \n",
            "51  0.075987  0.381818  0.963636  \n",
            "52  0.032527  0.096970  0.981818  \n",
            "53  0.000000  0.000000  1.000000  \n"
          ]
        }
      ],
      "source": [
        "from sklearn.preprocessing import MinMaxScaler\n",
        "\n",
        "# Initialize the MinMaxScaler\n",
        "scaler = MinMaxScaler()\n",
        "\n",
        "# Fit and transform the DataFrame\n",
        "df_normalized = pd.DataFrame(scaler.fit_transform(df_no_outliers), columns=df_no_outliers.columns)\n",
        "\n",
        "# Display the normalized DataFrame\n",
        "print(df_normalized)\n"
      ]
    },
    {
      "cell_type": "markdown",
      "metadata": {
        "id": "r6uOSuFlRXfL"
      },
      "source": []
    },
    {
      "cell_type": "markdown",
      "metadata": {
        "id": "fjDe7wXyRMlr"
      },
      "source": [
        "# Single figure with separate boxplots for each variable in the normalized DataFrame"
      ]
    },
    {
      "cell_type": "markdown",
      "metadata": {
        "id": "LcQ5LhYKRMw9"
      },
      "source": []
    },
    {
      "cell_type": "code",
      "execution_count": 13,
      "metadata": {
        "colab": {
          "base_uri": "https://localhost:8080/",
          "height": 807
        },
        "id": "37bl0MdiRNIb",
        "outputId": "f5f9aa5e-5d05-44e6-fb85-c7469b82cec0"
      },
      "outputs": [
        {
          "data": {
            "image/png": "[encoded data removed]",
            "text/plain": [
              "<Figure size 1500x800 with 10 Axes>"
            ]
          },
          "metadata": {},
          "output_type": "display_data"
        }
      ],
      "source": [
        "import matplotlib.pyplot as plt\n",
        "\n",
        "# Create a figure with subplots\n",
        "fig, axes = plt.subplots(nrows=2, ncols=5, figsize=(15, 8))\n",
        "\n",
        "# Flatten the 2D array of subplots\n",
        "axes = axes.flatten()\n",
        "\n",
        "# Loop through each column and create a boxplot in the corresponding subplot\n",
        "for i, column in enumerate(df_normalized.columns):\n",
        "    axes[i].boxplot(df_normalized[column], vert=False, patch_artist=True)\n",
        "    axes[i].set_title(column)\n",
        "\n",
        "# Adjust layout\n",
        "plt.tight_layout()\n",
        "\n",
        "# Show the plot\n",
        "plt.show()\n"
      ]
    },
    {
      "cell_type": "markdown",
      "metadata": {
        "id": "opNhHTEURWTL"
      },
      "source": []
    },
    {
      "cell_type": "markdown",
      "metadata": {
        "id": "zTMlU9W5QQoX"
      },
      "source": [
        "# **separate boxplots for each variable**"
      ]
    },
    {
      "cell_type": "markdown",
      "metadata": {
        "id": "b8Q-S0pLQQ2O"
      },
      "source": []
    },
    {
      "cell_type": "code",
      "execution_count": 14,
      "metadata": {
        "colab": {
          "base_uri": "https://localhost:8080/",
          "height": 1000
        },
        "id": "GmZjb4YIQvQt",
        "outputId": "d226db06-7e3b-4a58-8e67-39565916f67c"
      },
      "outputs": [
        {
          "data": {
            "image/png": "[encoded data removed]",
            "text/plain": [
              "<Figure size 800x600 with 1 Axes>"
            ]
          },
          "metadata": {},
          "output_type": "display_data"
        },
        {
          "data": {
            "image/png": "[encoded data removed]",
            "text/plain": [
              "<Figure size 800x600 with 1 Axes>"
            ]
          },
          "metadata": {},
          "output_type": "display_data"
        },
        {
          "data": {
            "image/png": "[encoded data removed]",
            "text/plain": [
              "<Figure size 800x600 with 1 Axes>"
            ]
          },
          "metadata": {},
          "output_type": "display_data"
        },
        {
          "data": {
            "image/png": "[encoded data removed]",
            "text/plain": [
              "<Figure size 800x600 with 1 Axes>"
            ]
          },
          "metadata": {},
          "output_type": "display_data"
        },
        {
          "data": {
            "image/png": "[encoded data removed]",
            "text/plain": [
              "<Figure size 800x600 with 1 Axes>"
            ]
          },
          "metadata": {},
          "output_type": "display_data"
        },
        {
          "data": {
            "image/png": "[encoded data removed]",
            "text/plain": [
              "<Figure size 800x600 with 1 Axes>"
            ]
          },
          "metadata": {},
          "output_type": "display_data"
        },
        {
          "data": {
            "image/png": "[encoded data removed]",
            "text/plain": [
              "<Figure size 800x600 with 1 Axes>"
            ]
          },
          "metadata": {},
          "output_type": "display_data"
        },
        {
          "data": {
            "image/png": "[encoded data removed]",
            "text/plain": [
              "<Figure size 800x600 with 1 Axes>"
            ]
          },
          "metadata": {},
          "output_type": "display_data"
        },
        {
          "data": {
            "image/png": "[encoded data removed]",
            "text/plain": [
              "<Figure size 800x600 with 1 Axes>"
            ]
          },
          "metadata": {},
          "output_type": "display_data"
        }
      ],
      "source": [
        "import matplotlib.pyplot as plt\n",
        "\n",
        "# Create separate boxplots for each variable\n",
        "for column in df_normalized.columns:\n",
        "    plt.figure(figsize=(8, 6))\n",
        "    plt.boxplot(df_normalized[column], vert=False, patch_artist=True)\n",
        "    plt.title(f'Boxplot of {column} in df_normalized')\n",
        "    plt.show()\n"
      ]
    },
    {
      "cell_type": "markdown",
      "metadata": {
        "id": "Yn0_B7j_Rmvb"
      },
      "source": [
        "# **Be careful for naming renaming your dataframe**"
      ]
    },
    {
      "cell_type": "markdown",
      "metadata": {
        "id": "NN0bWwPlRxmL"
      },
      "source": []
    },
    {
      "cell_type": "code",
      "execution_count": 15,
      "metadata": {
        "id": "Eq3Oo9SyRx-T"
      },
      "outputs": [],
      "source": [
        "df_no_outliers=df_normalized"
      ]
    },
    {
      "cell_type": "markdown",
      "metadata": {
        "id": "DMI0_zIHUq2I"
      },
      "source": [
        "# check for correlations, and gain insights into the data"
      ]
    },
    {
      "cell_type": "code",
      "execution_count": 16,
      "metadata": {
        "colab": {
          "base_uri": "https://localhost:8080/"
        },
        "id": "VsAGB1p9Uvc_",
        "outputId": "52d73a31-8e73-475f-8034-1c180b1576e4"
      },
      "outputs": [
        {
          "name": "stdout",
          "output_type": "stream",
          "text": [
            "Correlation between 'Umax' and 'Temp': -0.71\n"
          ]
        }
      ],
      "source": [
        "# Example: correlation between 'Umax' and 'Temp'\n",
        "correlation_Umax_Temp = df_no_outliers['Umax'].corr(df_no_outliers['Temp'])\n",
        "print(f\"Correlation between 'Umax' and 'Temp': {correlation_Umax_Temp:.2f}\")\n"
      ]
    },
    {
      "cell_type": "code",
      "execution_count": 17,
      "metadata": {
        "colab": {
          "base_uri": "https://localhost:8080/",
          "height": 573
        },
        "id": "y_IqgAjTVsHu",
        "outputId": "ac2a9d57-f68f-490f-cac2-f238b31afa94"
      },
      "outputs": [
        {
          "data": {
            "image/png": "[encoded data removed]",
            "text/plain": [
              "<Figure size 800x600 with 1 Axes>"
            ]
          },
          "metadata": {},
          "output_type": "display_data"
        }
      ],
      "source": [
        "import seaborn as sns\n",
        "import matplotlib.pyplot as plt\n",
        "\n",
        "# Calculate correlations between 'Umax' and other variables\n",
        "correlations_umax = df_no_outliers.drop(['Imax', 'Pmax'], axis=1).corr()['Umax']\n",
        "\n",
        "# Plot the correlations\n",
        "plt.figure(figsize=(8, 6))\n",
        "correlations_umax.drop('Umax').sort_values().plot(kind='barh', color='skyblue')\n",
        "plt.title('Correlations with Umax')\n",
        "plt.xlabel('Correlation Coefficient')\n",
        "plt.show()\n"
      ]
    },
    {
      "cell_type": "markdown",
      "metadata": {
        "id": "MHzpOek3lbAS"
      },
      "source": []
    },
    {
      "cell_type": "code",
      "execution_count": 18,
      "metadata": {
        "colab": {
          "base_uri": "https://localhost:8080/"
        },
        "id": "oPQsD-d8ddJc",
        "outputId": "af465acc-14e3-4317-f87f-0f93068e64b4"
      },
      "outputs": [
        {
          "data": {
            "text/plain": [
              "(54, 9)"
            ]
          },
          "execution_count": 18,
          "metadata": {},
          "output_type": "execute_result"
        }
      ],
      "source": [
        "df_no_outliers_iqr=df_no_outliers\n",
        "df_no_outliers_iqr.shape"
      ]
    },
    {
      "cell_type": "markdown",
      "metadata": {
        "id": "htLoLzXSsXFm"
      },
      "source": []
    },
    {
      "cell_type": "markdown",
      "metadata": {
        "id": "i37Ezb6msXrp"
      },
      "source": []
    },
    {
      "cell_type": "code",
      "execution_count": 19,
      "metadata": {
        "colab": {
          "base_uri": "https://localhost:8080/"
        },
        "id": "6HE40bCNuRg0",
        "outputId": "b7abc6de-b72d-4b69-9d6a-d9de764fef2e"
      },
      "outputs": [
        {
          "name": "stdout",
          "output_type": "stream",
          "text": [
            "Collecting catboost\n",
            "  Obtaining dependency information for catboost from https://files.pythonhosted.org/packages/9f/1f/a1fc89e48706b20a22b60f3a62b5bdbe7d8bc7dcd8353abcebe66a2bee21/catboost-1.2.2-cp310-cp310-win_amd64.whl.metadata\n",
            "  Downloading catboost-1.2.2-cp310-cp310-win_amd64.whl.metadata (1.2 kB)\n",
            "Collecting graphviz (from catboost)\n",
            "  Downloading graphviz-0.20.1-py3-none-any.whl (47 kB)\n",
            "     ---------------------------------------- 0.0/47.0 kB ? eta -:--:--\n",
            "     ------------------------ ------------- 30.7/47.0 kB 640.0 kB/s eta 0:00:01\n",
            "     -------------------------------------- 47.0/47.0 kB 471.8 kB/s eta 0:00:00\n",
            "Requirement already satisfied: matplotlib in c:\\users\\bilker\\appdata\\local\\packages\\pythonsoftwarefoundation.python.3.10_qbz5n2kfra8p0\\localcache\\local-packages\\python310\\site-packages (from catboost) (3.8.1)\n",
            "Requirement already satisfied: numpy>=1.16.0 in c:\\users\\bilker\\appdata\\local\\packages\\pythonsoftwarefoundation.python.3.10_qbz5n2kfra8p0\\localcache\\local-packages\\python310\\site-packages (from catboost) (1.26.0)\n",
            "Requirement already satisfied: pandas>=0.24 in c:\\users\\bilker\\appdata\\local\\packages\\pythonsoftwarefoundation.python.3.10_qbz5n2kfra8p0\\localcache\\local-packages\\python310\\site-packages (from catboost) (2.1.1)\n",
            "Requirement already satisfied: scipy in c:\\users\\bilker\\appdata\\local\\packages\\pythonsoftwarefoundation.python.3.10_qbz5n2kfra8p0\\localcache\\local-packages\\python310\\site-packages (from catboost) (1.11.4)\n",
            "Collecting plotly (from catboost)\n",
            "  Obtaining dependency information for plotly from https://files.pythonhosted.org/packages/a8/07/72953cf70e3bd3a24cbc3e743e6f8539abe6e3e6d83c3c0c83426eaffd39/plotly-5.18.0-py3-none-any.whl.metadata\n",
            "  Downloading plotly-5.18.0-py3-none-any.whl.metadata (7.0 kB)\n",
            "Requirement already satisfied: six in c:\\users\\bilker\\appdata\\local\\packages\\pythonsoftwarefoundation.python.3.10_qbz5n2kfra8p0\\localcache\\local-packages\\python310\\site-packages (from catboost) (1.16.0)\n",
            "Requirement already satisfied: python-dateutil>=2.8.2 in c:\\users\\bilker\\appdata\\local\\packages\\pythonsoftwarefoundation.python.3.10_qbz5n2kfra8p0\\localcache\\local-packages\\python310\\site-packages (from pandas>=0.24->catboost) (2.8.2)\n",
            "Requirement already satisfied: pytz>=2020.1 in c:\\users\\bilker\\appdata\\local\\packages\\pythonsoftwarefoundation.python.3.10_qbz5n2kfra8p0\\localcache\\local-packages\\python310\\site-packages (from pandas>=0.24->catboost) (2023.3.post1)\n",
            "Requirement already satisfied: tzdata>=2022.1 in c:\\users\\bilker\\appdata\\local\\packages\\pythonsoftwarefoundation.python.3.10_qbz5n2kfra8p0\\localcache\\local-packages\\python310\\site-packages (from pandas>=0.24->catboost) (2023.3)\n",
            "Requirement already satisfied: contourpy>=1.0.1 in c:\\users\\bilker\\appdata\\local\\packages\\pythonsoftwarefoundation.python.3.10_qbz5n2kfra8p0\\localcache\\local-packages\\python310\\site-packages (from matplotlib->catboost) (1.2.0)\n",
            "Requirement already satisfied: cycler>=0.10 in c:\\users\\bilker\\appdata\\local\\packages\\pythonsoftwarefoundation.python.3.10_qbz5n2kfra8p0\\localcache\\local-packages\\python310\\site-packages (from matplotlib->catboost) (0.12.1)\n",
            "Requirement already satisfied: fonttools>=4.22.0 in c:\\users\\bilker\\appdata\\local\\packages\\pythonsoftwarefoundation.python.3.10_qbz5n2kfra8p0\\localcache\\local-packages\\python310\\site-packages (from matplotlib->catboost) (4.44.0)\n",
            "Requirement already satisfied: kiwisolver>=1.3.1 in c:\\users\\bilker\\appdata\\local\\packages\\pythonsoftwarefoundation.python.3.10_qbz5n2kfra8p0\\localcache\\local-packages\\python310\\site-packages (from matplotlib->catboost) (1.4.5)\n",
            "Requirement already satisfied: packaging>=20.0 in c:\\users\\bilker\\appdata\\local\\packages\\pythonsoftwarefoundation.python.3.10_qbz5n2kfra8p0\\localcache\\local-packages\\python310\\site-packages (from matplotlib->catboost) (23.2)\n",
            "Requirement already satisfied: pillow>=8 in c:\\users\\bilker\\appdata\\local\\packages\\pythonsoftwarefoundation.python.3.10_qbz5n2kfra8p0\\localcache\\local-packages\\python310\\site-packages (from matplotlib->catboost) (10.0.1)\n",
            "Requirement already satisfied: pyparsing>=2.3.1 in c:\\users\\bilker\\appdata\\local\\packages\\pythonsoftwarefoundation.python.3.10_qbz5n2kfra8p0\\localcache\\local-packages\\python310\\site-packages (from matplotlib->catboost) (3.1.1)\n",
            "Collecting tenacity>=6.2.0 (from plotly->catboost)\n",
            "  Obtaining dependency information for tenacity>=6.2.0 from https://files.pythonhosted.org/packages/f4/f1/990741d5bb2487d529d20a433210ffa136a367751e454214013b441c4575/tenacity-8.2.3-py3-none-any.whl.metadata\n",
            "  Downloading tenacity-8.2.3-py3-none-any.whl.metadata (1.0 kB)\n",
            "Downloading catboost-1.2.2-cp310-cp310-win_amd64.whl (101.0 MB)\n",
            "   ---------------------------------------- 0.0/101.0 MB ? eta -:--:--\n",
            "   ---------------------------------------- 0.1/101.0 MB 2.2 MB/s eta 0:00:46\n",
            "   ---------------------------------------- 0.1/101.0 MB 2.2 MB/s eta 0:00:46\n",
            "   ---------------------------------------- 0.2/101.0 MB 1.9 MB/s eta 0:00:54\n",
            "   ---------------------------------------- 0.3/101.0 MB 1.5 MB/s eta 0:01:06\n",
            "   ---------------------------------------- 0.5/101.0 MB 2.5 MB/s eta 0:00:40\n",
            "   ---------------------------------------- 0.6/101.0 MB 2.3 MB/s eta 0:00:44\n",
            "   ---------------------------------------- 1.0/101.0 MB 3.2 MB/s eta 0:00:32\n",
            "   ---------------------------------------- 1.3/101.0 MB 3.5 MB/s eta 0:00:29\n",
            "    --------------------------------------- 1.5/101.0 MB 3.9 MB/s eta 0:00:26\n",
            "    --------------------------------------- 1.9/101.0 MB 4.3 MB/s eta 0:00:24\n",
            "    --------------------------------------- 2.0/101.0 MB 4.0 MB/s eta 0:00:26\n",
            "    --------------------------------------- 2.5/101.0 MB 4.5 MB/s eta 0:00:22\n",
            "   - -------------------------------------- 2.7/101.0 MB 4.6 MB/s eta 0:00:22\n",
            "   - -------------------------------------- 3.1/101.0 MB 4.8 MB/s eta 0:00:21\n",
            "   - -------------------------------------- 3.1/101.0 MB 4.8 MB/s eta 0:00:21\n",
            "   - -------------------------------------- 3.1/101.0 MB 4.8 MB/s eta 0:00:21\n",
            "   - -------------------------------------- 3.1/101.0 MB 4.8 MB/s eta 0:00:21\n",
            "   - -------------------------------------- 3.1/101.0 MB 4.8 MB/s eta 0:00:21\n",
            "   - -------------------------------------- 3.1/101.0 MB 4.8 MB/s eta 0:00:21\n",
            "   - -------------------------------------- 3.1/101.0 MB 4.8 MB/s eta 0:00:21\n",
            "   - -------------------------------------- 3.1/101.0 MB 4.8 MB/s eta 0:00:21\n",
            "   - -------------------------------------- 3.1/101.0 MB 4.8 MB/s eta 0:00:21\n",
            "   - -------------------------------------- 3.1/101.0 MB 4.8 MB/s eta 0:00:21\n",
            "   - -------------------------------------- 3.4/101.0 MB 3.1 MB/s eta 0:00:32\n",
            "   - -------------------------------------- 3.5/101.0 MB 3.1 MB/s eta 0:00:32\n",
            "   - -------------------------------------- 3.8/101.0 MB 3.2 MB/s eta 0:00:31\n",
            "   - -------------------------------------- 3.9/101.0 MB 3.2 MB/s eta 0:00:31\n",
            "   - -------------------------------------- 4.2/101.0 MB 3.3 MB/s eta 0:00:30\n",
            "   - -------------------------------------- 4.4/101.0 MB 3.3 MB/s eta 0:00:30\n",
            "   - -------------------------------------- 4.7/101.0 MB 3.4 MB/s eta 0:00:29\n",
            "   - -------------------------------------- 5.0/101.0 MB 3.6 MB/s eta 0:00:27\n",
            "   -- ------------------------------------- 5.2/101.0 MB 3.5 MB/s eta 0:00:28\n",
            "   -- ------------------------------------- 5.7/101.0 MB 3.7 MB/s eta 0:00:26\n",
            "   -- ------------------------------------- 6.1/101.0 MB 3.9 MB/s eta 0:00:25\n",
            "   -- ------------------------------------- 6.1/101.0 MB 3.9 MB/s eta 0:00:25\n",
            "   -- ------------------------------------- 6.4/101.0 MB 3.9 MB/s eta 0:00:25\n",
            "   -- ------------------------------------- 6.9/101.0 MB 4.1 MB/s eta 0:00:24\n",
            "   -- ------------------------------------- 7.2/101.0 MB 4.2 MB/s eta 0:00:23\n",
            "   -- ------------------------------------- 7.3/101.0 MB 4.1 MB/s eta 0:00:24\n",
            "   -- ------------------------------------- 7.3/101.0 MB 4.1 MB/s eta 0:00:23\n",
            "   --- ------------------------------------ 7.6/101.0 MB 4.1 MB/s eta 0:00:24\n",
            "   --- ------------------------------------ 8.1/101.0 MB 4.2 MB/s eta 0:00:22\n",
            "   --- ------------------------------------ 8.4/101.0 MB 4.3 MB/s eta 0:00:22\n",
            "   --- ------------------------------------ 8.4/101.0 MB 4.3 MB/s eta 0:00:22\n",
            "   --- ------------------------------------ 8.4/101.0 MB 4.3 MB/s eta 0:00:22\n",
            "   --- ------------------------------------ 8.4/101.0 MB 4.3 MB/s eta 0:00:22\n",
            "   --- ------------------------------------ 8.4/101.0 MB 4.3 MB/s eta 0:00:22\n",
            "   --- ------------------------------------ 8.4/101.0 MB 4.3 MB/s eta 0:00:22\n",
            "   --- ------------------------------------ 9.2/101.0 MB 4.1 MB/s eta 0:00:23\n",
            "   --- ------------------------------------ 9.2/101.0 MB 4.1 MB/s eta 0:00:23\n",
            "   --- ------------------------------------ 9.4/101.0 MB 4.0 MB/s eta 0:00:23\n",
            "   --- ------------------------------------ 9.4/101.0 MB 4.0 MB/s eta 0:00:23\n",
            "   --- ------------------------------------ 10.0/101.0 MB 4.1 MB/s eta 0:00:23\n",
            "   ---- ----------------------------------- 10.3/101.0 MB 4.3 MB/s eta 0:00:21\n",
            "   ---- ----------------------------------- 10.5/101.0 MB 4.3 MB/s eta 0:00:21\n",
            "   ---- ----------------------------------- 10.5/101.0 MB 4.3 MB/s eta 0:00:21\n",
            "   ---- ----------------------------------- 10.5/101.0 MB 4.3 MB/s eta 0:00:21\n",
            "   ---- ----------------------------------- 10.5/101.0 MB 4.1 MB/s eta 0:00:22\n",
            "   ---- ----------------------------------- 11.2/101.0 MB 4.3 MB/s eta 0:00:22\n",
            "   ---- ----------------------------------- 11.9/101.0 MB 4.4 MB/s eta 0:00:21\n",
            "   ---- ----------------------------------- 12.6/101.0 MB 4.5 MB/s eta 0:00:20\n",
            "   ---- ----------------------------------- 12.6/101.0 MB 4.5 MB/s eta 0:00:20\n",
            "   ----- ---------------------------------- 12.9/101.0 MB 4.4 MB/s eta 0:00:20\n",
            "   ----- ---------------------------------- 13.6/101.0 MB 5.5 MB/s eta 0:00:17\n",
            "   ----- ---------------------------------- 13.6/101.0 MB 5.5 MB/s eta 0:00:17\n",
            "   ----- ---------------------------------- 13.6/101.0 MB 5.5 MB/s eta 0:00:17\n",
            "   ----- ---------------------------------- 13.6/101.0 MB 5.5 MB/s eta 0:00:17\n",
            "   ----- ---------------------------------- 14.6/101.0 MB 5.7 MB/s eta 0:00:16\n",
            "   ----- ---------------------------------- 14.7/101.0 MB 5.6 MB/s eta 0:00:16\n",
            "   ----- ---------------------------------- 14.7/101.0 MB 5.6 MB/s eta 0:00:16\n",
            "   ----- ---------------------------------- 14.7/101.0 MB 5.6 MB/s eta 0:00:16\n",
            "   ----- ---------------------------------- 14.7/101.0 MB 5.6 MB/s eta 0:00:16\n",
            "   ----- ---------------------------------- 14.7/101.0 MB 5.6 MB/s eta 0:00:16\n",
            "   ------ --------------------------------- 15.2/101.0 MB 5.0 MB/s eta 0:00:18\n",
            "   ------ --------------------------------- 15.7/101.0 MB 5.2 MB/s eta 0:00:17\n",
            "   ------ --------------------------------- 15.7/101.0 MB 5.2 MB/s eta 0:00:17\n",
            "   ------ --------------------------------- 15.7/101.0 MB 5.2 MB/s eta 0:00:17\n",
            "   ------ --------------------------------- 15.7/101.0 MB 5.2 MB/s eta 0:00:17\n",
            "   ------ --------------------------------- 16.4/101.0 MB 5.1 MB/s eta 0:00:17\n",
            "   ------ --------------------------------- 16.8/101.0 MB 5.1 MB/s eta 0:00:17\n",
            "   ------ --------------------------------- 16.8/101.0 MB 5.1 MB/s eta 0:00:17\n",
            "   ------ --------------------------------- 16.8/101.0 MB 5.1 MB/s eta 0:00:17\n",
            "   ------ --------------------------------- 16.8/101.0 MB 5.1 MB/s eta 0:00:17\n",
            "   ------ --------------------------------- 16.8/101.0 MB 5.1 MB/s eta 0:00:17\n",
            "   ------ --------------------------------- 17.4/101.0 MB 4.6 MB/s eta 0:00:19\n",
            "   ------- -------------------------------- 17.8/101.0 MB 4.9 MB/s eta 0:00:17\n",
            "   ------- -------------------------------- 17.8/101.0 MB 4.9 MB/s eta 0:00:17\n",
            "   ------- -------------------------------- 17.8/101.0 MB 4.9 MB/s eta 0:00:17\n",
            "   ------- -------------------------------- 17.8/101.0 MB 4.9 MB/s eta 0:00:17\n",
            "   ------- -------------------------------- 17.8/101.0 MB 4.9 MB/s eta 0:00:17\n",
            "   ------- -------------------------------- 18.4/101.0 MB 4.5 MB/s eta 0:00:19\n",
            "   ------- -------------------------------- 18.9/101.0 MB 5.1 MB/s eta 0:00:17\n",
            "   ------- -------------------------------- 19.8/101.0 MB 5.5 MB/s eta 0:00:15\n",
            "   ------- -------------------------------- 19.9/101.0 MB 5.4 MB/s eta 0:00:15\n",
            "   ------- -------------------------------- 19.9/101.0 MB 5.4 MB/s eta 0:00:15\n",
            "   -------- ------------------------------- 20.8/101.0 MB 5.8 MB/s eta 0:00:14\n",
            "   -------- ------------------------------- 21.0/101.0 MB 5.8 MB/s eta 0:00:14\n",
            "   -------- ------------------------------- 21.0/101.0 MB 5.8 MB/s eta 0:00:14\n",
            "   -------- ------------------------------- 21.0/101.0 MB 5.8 MB/s eta 0:00:14\n",
            "   -------- ------------------------------- 21.3/101.0 MB 5.4 MB/s eta 0:00:15\n",
            "   -------- ------------------------------- 21.9/101.0 MB 5.4 MB/s eta 0:00:15\n",
            "   -------- ------------------------------- 22.0/101.0 MB 5.3 MB/s eta 0:00:15\n",
            "   -------- ------------------------------- 22.0/101.0 MB 5.3 MB/s eta 0:00:15\n",
            "   -------- ------------------------------- 22.0/101.0 MB 5.3 MB/s eta 0:00:15\n",
            "   -------- ------------------------------- 22.2/101.0 MB 4.9 MB/s eta 0:00:17\n",
            "   --------- ------------------------------ 23.0/101.0 MB 5.1 MB/s eta 0:00:16\n",
            "   --------- ------------------------------ 23.1/101.0 MB 5.1 MB/s eta 0:00:16\n",
            "   --------- ------------------------------ 23.1/101.0 MB 5.1 MB/s eta 0:00:16\n",
            "   --------- ------------------------------ 23.1/101.0 MB 5.1 MB/s eta 0:00:16\n",
            "   --------- ------------------------------ 24.0/101.0 MB 5.2 MB/s eta 0:00:15\n",
            "   --------- ------------------------------ 24.1/101.0 MB 5.2 MB/s eta 0:00:15\n",
            "   --------- ------------------------------ 24.1/101.0 MB 5.2 MB/s eta 0:00:15\n",
            "   --------- ------------------------------ 24.1/101.0 MB 5.2 MB/s eta 0:00:15\n",
            "   --------- ------------------------------ 24.2/101.0 MB 4.8 MB/s eta 0:00:17\n",
            "   --------- ------------------------------ 25.1/101.0 MB 5.4 MB/s eta 0:00:15\n",
            "   --------- ------------------------------ 25.2/101.0 MB 5.3 MB/s eta 0:00:15\n",
            "   --------- ------------------------------ 25.2/101.0 MB 5.3 MB/s eta 0:00:15\n",
            "   --------- ------------------------------ 25.2/101.0 MB 5.3 MB/s eta 0:00:15\n",
            "   --------- ------------------------------ 25.2/101.0 MB 5.3 MB/s eta 0:00:15\n",
            "   ---------- ----------------------------- 25.8/101.0 MB 4.9 MB/s eta 0:00:16\n",
            "   ---------- ----------------------------- 26.3/101.0 MB 5.3 MB/s eta 0:00:15\n",
            "   ---------- ----------------------------- 26.7/101.0 MB 5.2 MB/s eta 0:00:15\n",
            "   ---------- ----------------------------- 27.3/101.0 MB 5.9 MB/s eta 0:00:13\n",
            "   ---------- ----------------------------- 27.7/101.0 MB 5.7 MB/s eta 0:00:13\n",
            "   ----------- ---------------------------- 28.3/101.0 MB 6.5 MB/s eta 0:00:12\n",
            "   ----------- ---------------------------- 28.3/101.0 MB 6.5 MB/s eta 0:00:12\n",
            "   ----------- ---------------------------- 28.3/101.0 MB 6.5 MB/s eta 0:00:12\n",
            "   ----------- ---------------------------- 28.3/101.0 MB 6.5 MB/s eta 0:00:12\n",
            "   ----------- ---------------------------- 28.4/101.0 MB 5.8 MB/s eta 0:00:13\n",
            "   ----------- ---------------------------- 29.4/101.0 MB 5.9 MB/s eta 0:00:13\n",
            "   ----------- ---------------------------- 29.4/101.0 MB 5.9 MB/s eta 0:00:13\n",
            "   ----------- ---------------------------- 29.4/101.0 MB 5.9 MB/s eta 0:00:13\n",
            "   ----------- ---------------------------- 29.4/101.0 MB 5.9 MB/s eta 0:00:13\n",
            "   ----------- ---------------------------- 29.9/101.0 MB 5.4 MB/s eta 0:00:14\n",
            "   ------------ --------------------------- 30.4/101.0 MB 5.7 MB/s eta 0:00:13\n",
            "   ------------ --------------------------- 30.4/101.0 MB 5.7 MB/s eta 0:00:13\n",
            "   ------------ --------------------------- 30.4/101.0 MB 5.7 MB/s eta 0:00:13\n",
            "   ------------ --------------------------- 30.4/101.0 MB 5.7 MB/s eta 0:00:13\n",
            "   ------------ --------------------------- 31.3/101.0 MB 5.6 MB/s eta 0:00:13\n",
            "   ------------ --------------------------- 31.5/101.0 MB 5.7 MB/s eta 0:00:13\n",
            "   ------------ --------------------------- 31.5/101.0 MB 5.7 MB/s eta 0:00:13\n",
            "   ------------ --------------------------- 31.5/101.0 MB 5.7 MB/s eta 0:00:13\n",
            "   ------------ --------------------------- 31.5/101.0 MB 5.7 MB/s eta 0:00:13\n",
            "   ------------ --------------------------- 32.0/101.0 MB 5.1 MB/s eta 0:00:14\n",
            "   ------------ --------------------------- 32.5/101.0 MB 5.6 MB/s eta 0:00:13\n",
            "   ------------ --------------------------- 32.5/101.0 MB 5.6 MB/s eta 0:00:13\n",
            "   ------------ --------------------------- 32.5/101.0 MB 5.6 MB/s eta 0:00:13\n",
            "   ------------- -------------------------- 33.0/101.0 MB 5.3 MB/s eta 0:00:13\n",
            "   ------------- -------------------------- 33.5/101.0 MB 5.6 MB/s eta 0:00:13\n",
            "   ------------- -------------------------- 33.5/101.0 MB 5.6 MB/s eta 0:00:13\n",
            "   ------------- -------------------------- 33.5/101.0 MB 5.6 MB/s eta 0:00:13\n",
            "   ------------- -------------------------- 33.5/101.0 MB 5.6 MB/s eta 0:00:13\n",
            "   ------------- -------------------------- 33.5/101.0 MB 5.6 MB/s eta 0:00:13\n",
            "   ------------- -------------------------- 33.5/101.0 MB 5.6 MB/s eta 0:00:13\n",
            "   ------------- -------------------------- 33.5/101.0 MB 5.6 MB/s eta 0:00:13\n",
            "   ------------- -------------------------- 33.5/101.0 MB 5.6 MB/s eta 0:00:13\n",
            "   ------------- -------------------------- 33.5/101.0 MB 5.6 MB/s eta 0:00:13\n",
            "   ------------- -------------------------- 33.5/101.0 MB 5.6 MB/s eta 0:00:13\n",
            "   ------------- -------------------------- 33.5/101.0 MB 5.6 MB/s eta 0:00:13\n",
            "   ------------- -------------------------- 33.5/101.0 MB 5.6 MB/s eta 0:00:13\n",
            "   ------------- -------------------------- 33.5/101.0 MB 5.6 MB/s eta 0:00:13\n",
            "   ------------- -------------------------- 33.5/101.0 MB 5.6 MB/s eta 0:00:13\n",
            "   ------------- -------------------------- 33.5/101.0 MB 5.6 MB/s eta 0:00:13\n",
            "   ------------- -------------------------- 33.7/101.0 MB 4.1 MB/s eta 0:00:17\n",
            "   ------------- -------------------------- 34.6/101.0 MB 4.4 MB/s eta 0:00:16\n",
            "   ------------- -------------------------- 34.6/101.0 MB 4.4 MB/s eta 0:00:16\n",
            "   ------------- -------------------------- 34.6/101.0 MB 4.4 MB/s eta 0:00:16\n",
            "   ------------- -------------------------- 34.6/101.0 MB 4.4 MB/s eta 0:00:16\n",
            "   ------------- -------------------------- 34.6/101.0 MB 4.4 MB/s eta 0:00:16\n",
            "   ------------- -------------------------- 35.1/101.0 MB 4.0 MB/s eta 0:00:17\n",
            "   -------------- ------------------------- 35.6/101.0 MB 4.3 MB/s eta 0:00:16\n",
            "   -------------- ------------------------- 35.6/101.0 MB 4.3 MB/s eta 0:00:16\n",
            "   -------------- ------------------------- 35.6/101.0 MB 4.3 MB/s eta 0:00:16\n",
            "   -------------- ------------------------- 35.6/101.0 MB 4.3 MB/s eta 0:00:16\n",
            "   -------------- ------------------------- 35.6/101.0 MB 4.3 MB/s eta 0:00:16\n",
            "   -------------- ------------------------- 35.6/101.0 MB 4.3 MB/s eta 0:00:16\n",
            "   -------------- ------------------------- 35.6/101.0 MB 4.3 MB/s eta 0:00:16\n",
            "   -------------- ------------------------- 35.7/101.0 MB 3.8 MB/s eta 0:00:18\n",
            "   -------------- ------------------------- 36.5/101.0 MB 3.8 MB/s eta 0:00:18\n",
            "   -------------- ------------------------- 36.7/101.0 MB 3.9 MB/s eta 0:00:17\n",
            "   -------------- ------------------------- 36.7/101.0 MB 3.9 MB/s eta 0:00:17\n",
            "   -------------- ------------------------- 36.7/101.0 MB 3.9 MB/s eta 0:00:17\n",
            "   -------------- ------------------------- 36.7/101.0 MB 3.9 MB/s eta 0:00:17\n",
            "   -------------- ------------------------- 36.7/101.0 MB 3.9 MB/s eta 0:00:17\n",
            "   -------------- ------------------------- 36.7/101.0 MB 3.9 MB/s eta 0:00:17\n",
            "   -------------- ------------------------- 36.7/101.0 MB 3.9 MB/s eta 0:00:17\n",
            "   -------------- ------------------------- 36.7/101.0 MB 3.9 MB/s eta 0:00:17\n",
            "   -------------- ------------------------- 36.7/101.0 MB 3.9 MB/s eta 0:00:17\n",
            "   -------------- ------------------------- 36.7/101.0 MB 3.9 MB/s eta 0:00:17\n",
            "   -------------- ------------------------- 36.7/101.0 MB 3.9 MB/s eta 0:00:17\n",
            "   -------------- ------------------------- 36.7/101.0 MB 3.9 MB/s eta 0:00:17\n",
            "   -------------- ------------------------- 36.7/101.0 MB 3.9 MB/s eta 0:00:17\n",
            "   -------------- ------------------------- 37.1/101.0 MB 3.1 MB/s eta 0:00:21\n",
            "   -------------- ------------------------- 37.7/101.0 MB 3.2 MB/s eta 0:00:21\n",
            "   -------------- ------------------------- 37.7/101.0 MB 3.2 MB/s eta 0:00:21\n",
            "   -------------- ------------------------- 37.7/101.0 MB 3.2 MB/s eta 0:00:21\n",
            "   -------------- ------------------------- 37.7/101.0 MB 3.2 MB/s eta 0:00:21\n",
            "   --------------- ------------------------ 38.2/101.0 MB 3.0 MB/s eta 0:00:22\n",
            "   --------------- ------------------------ 39.0/101.0 MB 3.2 MB/s eta 0:00:20\n",
            "   --------------- ------------------------ 39.8/101.0 MB 3.3 MB/s eta 0:00:19\n",
            "   --------------- ------------------------ 39.8/101.0 MB 3.3 MB/s eta 0:00:19\n",
            "   --------------- ------------------------ 39.8/101.0 MB 3.3 MB/s eta 0:00:19\n",
            "   --------------- ------------------------ 40.4/101.0 MB 3.2 MB/s eta 0:00:19\n",
            "   ---------------- ----------------------- 40.9/101.0 MB 3.4 MB/s eta 0:00:18\n",
            "   ---------------- ----------------------- 40.9/101.0 MB 3.4 MB/s eta 0:00:18\n",
            "   ---------------- ----------------------- 40.9/101.0 MB 3.4 MB/s eta 0:00:18\n",
            "   ---------------- ----------------------- 40.9/101.0 MB 3.4 MB/s eta 0:00:18\n",
            "   ---------------- ----------------------- 40.9/101.0 MB 3.4 MB/s eta 0:00:18\n",
            "   ---------------- ----------------------- 41.0/101.0 MB 3.1 MB/s eta 0:00:20\n",
            "   ---------------- ----------------------- 41.0/101.0 MB 3.1 MB/s eta 0:00:20\n",
            "   ---------------- ----------------------- 42.3/101.0 MB 3.3 MB/s eta 0:00:18\n",
            "   ---------------- ----------------------- 42.3/101.0 MB 3.3 MB/s eta 0:00:18\n",
            "   ---------------- ----------------------- 42.4/101.0 MB 3.2 MB/s eta 0:00:19\n",
            "   ----------------- ---------------------- 42.9/101.0 MB 3.3 MB/s eta 0:00:18\n",
            "   ----------------- ---------------------- 43.7/101.0 MB 3.3 MB/s eta 0:00:18\n",
            "   ----------------- ---------------------- 44.0/101.0 MB 4.3 MB/s eta 0:00:14\n",
            "   ----------------- ---------------------- 44.0/101.0 MB 4.3 MB/s eta 0:00:14\n",
            "   ----------------- ---------------------- 44.0/101.0 MB 4.3 MB/s eta 0:00:14\n",
            "   ----------------- ---------------------- 44.0/101.0 MB 4.3 MB/s eta 0:00:14\n",
            "   ----------------- ---------------------- 44.0/101.0 MB 4.3 MB/s eta 0:00:14\n",
            "   ----------------- ---------------------- 44.0/101.0 MB 4.3 MB/s eta 0:00:14\n",
            "   ----------------- ---------------------- 44.0/101.0 MB 4.3 MB/s eta 0:00:14\n",
            "   ----------------- ---------------------- 44.0/101.0 MB 4.3 MB/s eta 0:00:14\n",
            "   ----------------- ---------------------- 44.0/101.0 MB 4.3 MB/s eta 0:00:14\n",
            "   ----------------- ---------------------- 44.0/101.0 MB 4.3 MB/s eta 0:00:14\n",
            "   ----------------- ---------------------- 44.0/101.0 MB 4.3 MB/s eta 0:00:14\n",
            "   ----------------- ---------------------- 44.0/101.0 MB 4.3 MB/s eta 0:00:14\n",
            "   ----------------- ---------------------- 44.0/101.0 MB 4.3 MB/s eta 0:00:14\n",
            "   ----------------- ---------------------- 44.0/101.0 MB 4.3 MB/s eta 0:00:14\n",
            "   ----------------- ---------------------- 44.5/101.0 MB 3.4 MB/s eta 0:00:17\n",
            "   ----------------- ---------------------- 45.1/101.0 MB 3.6 MB/s eta 0:00:16\n",
            "   ----------------- ---------------------- 45.1/101.0 MB 3.6 MB/s eta 0:00:16\n",
            "   ----------------- ---------------------- 45.1/101.0 MB 3.6 MB/s eta 0:00:16\n",
            "   ----------------- ---------------------- 45.1/101.0 MB 3.6 MB/s eta 0:00:16\n",
            "   ----------------- ---------------------- 45.1/101.0 MB 3.6 MB/s eta 0:00:16\n",
            "   ----------------- ---------------------- 45.1/101.0 MB 3.6 MB/s eta 0:00:16\n",
            "   ----------------- ---------------------- 45.1/101.0 MB 3.6 MB/s eta 0:00:16\n",
            "   ----------------- ---------------------- 45.1/101.0 MB 3.6 MB/s eta 0:00:16\n",
            "   ------------------ --------------------- 45.6/101.0 MB 3.2 MB/s eta 0:00:18\n",
            "   ------------------ --------------------- 46.0/101.0 MB 3.5 MB/s eta 0:00:16\n",
            "   ------------------ --------------------- 46.1/101.0 MB 3.5 MB/s eta 0:00:16\n",
            "   ------------------ --------------------- 46.1/101.0 MB 3.5 MB/s eta 0:00:16\n",
            "   ------------------ --------------------- 46.2/101.0 MB 3.4 MB/s eta 0:00:17\n",
            "   ------------------ --------------------- 47.1/101.0 MB 4.3 MB/s eta 0:00:13\n",
            "   ------------------ --------------------- 47.2/101.0 MB 4.3 MB/s eta 0:00:13\n",
            "   ------------------ --------------------- 47.2/101.0 MB 4.3 MB/s eta 0:00:13\n",
            "   ------------------ --------------------- 47.2/101.0 MB 4.3 MB/s eta 0:00:13\n",
            "   ------------------ --------------------- 47.2/101.0 MB 4.3 MB/s eta 0:00:13\n",
            "   ------------------ --------------------- 47.2/101.0 MB 4.3 MB/s eta 0:00:13\n",
            "   ------------------ --------------------- 47.2/101.0 MB 4.3 MB/s eta 0:00:13\n",
            "   ------------------ --------------------- 47.6/101.0 MB 3.8 MB/s eta 0:00:15\n",
            "   ------------------- -------------------- 48.6/101.0 MB 4.1 MB/s eta 0:00:13\n",
            "   ------------------- -------------------- 48.8/101.0 MB 4.1 MB/s eta 0:00:13\n",
            "   ------------------- -------------------- 48.8/101.0 MB 4.0 MB/s eta 0:00:14\n",
            "   ------------------- -------------------- 49.3/101.0 MB 3.9 MB/s eta 0:00:14\n",
            "   ------------------- -------------------- 49.3/101.0 MB 3.9 MB/s eta 0:00:14\n",
            "   ------------------- -------------------- 49.4/101.0 MB 3.8 MB/s eta 0:00:14\n",
            "   ------------------- -------------------- 50.2/101.0 MB 4.0 MB/s eta 0:00:13\n",
            "   ------------------- -------------------- 50.3/101.0 MB 4.0 MB/s eta 0:00:13\n",
            "   ------------------- -------------------- 50.3/101.0 MB 4.0 MB/s eta 0:00:13\n",
            "   ------------------- -------------------- 50.3/101.0 MB 4.0 MB/s eta 0:00:13\n",
            "   ------------------- -------------------- 50.3/101.0 MB 4.0 MB/s eta 0:00:13\n",
            "   ------------------- -------------------- 50.3/101.0 MB 4.0 MB/s eta 0:00:13\n",
            "   ------------------- -------------------- 50.3/101.0 MB 4.0 MB/s eta 0:00:13\n",
            "   ------------------- -------------------- 50.3/101.0 MB 4.0 MB/s eta 0:00:13\n",
            "   ------------------- -------------------- 50.3/101.0 MB 4.0 MB/s eta 0:00:13\n",
            "   ------------------- -------------------- 50.3/101.0 MB 4.0 MB/s eta 0:00:13\n",
            "   ------------------- -------------------- 50.4/101.0 MB 3.4 MB/s eta 0:00:16\n",
            "   -------------------- ------------------- 51.4/101.0 MB 3.8 MB/s eta 0:00:14\n",
            "   -------------------- ------------------- 51.4/101.0 MB 3.8 MB/s eta 0:00:14\n",
            "   -------------------- ------------------- 51.4/101.0 MB 3.8 MB/s eta 0:00:14\n",
            "   -------------------- ------------------- 51.9/101.0 MB 3.6 MB/s eta 0:00:14\n",
            "   -------------------- ------------------- 52.4/101.0 MB 3.5 MB/s eta 0:00:14\n",
            "   -------------------- ------------------- 52.4/101.0 MB 3.5 MB/s eta 0:00:14\n",
            "   -------------------- ------------------- 52.4/101.0 MB 3.5 MB/s eta 0:00:14\n",
            "   -------------------- ------------------- 52.4/101.0 MB 3.5 MB/s eta 0:00:14\n",
            "   -------------------- ------------------- 52.4/101.0 MB 3.5 MB/s eta 0:00:14\n",
            "   -------------------- ------------------- 52.4/101.0 MB 3.5 MB/s eta 0:00:14\n",
            "   -------------------- ------------------- 52.4/101.0 MB 3.5 MB/s eta 0:00:14\n",
            "   -------------------- ------------------- 52.4/101.0 MB 3.5 MB/s eta 0:00:14\n",
            "   -------------------- ------------------- 52.4/101.0 MB 3.5 MB/s eta 0:00:14\n",
            "   -------------------- ------------------- 52.4/101.0 MB 3.5 MB/s eta 0:00:14\n",
            "   -------------------- ------------------- 52.4/101.0 MB 3.5 MB/s eta 0:00:14\n",
            "   -------------------- ------------------- 52.4/101.0 MB 3.5 MB/s eta 0:00:14\n",
            "   -------------------- ------------------- 52.4/101.0 MB 3.5 MB/s eta 0:00:14\n",
            "   --------------------- ------------------ 53.3/101.0 MB 3.1 MB/s eta 0:00:16\n",
            "   --------------------- ------------------ 53.5/101.0 MB 3.1 MB/s eta 0:00:16\n",
            "   --------------------- ------------------ 53.5/101.0 MB 3.1 MB/s eta 0:00:16\n",
            "   --------------------- ------------------ 53.5/101.0 MB 3.1 MB/s eta 0:00:16\n",
            "   --------------------- ------------------ 53.5/101.0 MB 3.1 MB/s eta 0:00:16\n",
            "   --------------------- ------------------ 53.9/101.0 MB 2.9 MB/s eta 0:00:17\n",
            "   --------------------- ------------------ 54.5/101.0 MB 3.6 MB/s eta 0:00:13\n",
            "   --------------------- ------------------ 54.5/101.0 MB 3.6 MB/s eta 0:00:13\n",
            "   --------------------- ------------------ 54.5/101.0 MB 3.6 MB/s eta 0:00:13\n",
            "   --------------------- ------------------ 54.5/101.0 MB 3.6 MB/s eta 0:00:13\n",
            "   --------------------- ------------------ 54.5/101.0 MB 3.6 MB/s eta 0:00:13\n",
            "   --------------------- ------------------ 54.5/101.0 MB 3.6 MB/s eta 0:00:13\n",
            "   --------------------- ------------------ 54.5/101.0 MB 3.6 MB/s eta 0:00:13\n",
            "   --------------------- ------------------ 54.5/101.0 MB 3.6 MB/s eta 0:00:13\n",
            "   --------------------- ------------------ 54.5/101.0 MB 3.6 MB/s eta 0:00:13\n",
            "   --------------------- ------------------ 54.5/101.0 MB 3.6 MB/s eta 0:00:13\n",
            "   --------------------- ------------------ 54.5/101.0 MB 3.6 MB/s eta 0:00:13\n",
            "   --------------------- ------------------ 54.5/101.0 MB 3.6 MB/s eta 0:00:13\n",
            "   --------------------- ------------------ 54.5/101.0 MB 3.6 MB/s eta 0:00:13\n",
            "   --------------------- ------------------ 54.9/101.0 MB 2.9 MB/s eta 0:00:16\n",
            "   ---------------------- ----------------- 55.6/101.0 MB 3.3 MB/s eta 0:00:14\n",
            "   ---------------------- ----------------- 55.6/101.0 MB 3.3 MB/s eta 0:00:14\n",
            "   ---------------------- ----------------- 55.6/101.0 MB 3.3 MB/s eta 0:00:14\n",
            "   ---------------------- ----------------- 55.6/101.0 MB 3.3 MB/s eta 0:00:14\n",
            "   ---------------------- ----------------- 55.6/101.0 MB 3.3 MB/s eta 0:00:14\n",
            "   ---------------------- ----------------- 56.4/101.0 MB 3.2 MB/s eta 0:00:14\n",
            "   ---------------------- ----------------- 56.6/101.0 MB 3.2 MB/s eta 0:00:14\n",
            "   ---------------------- ----------------- 56.6/101.0 MB 3.2 MB/s eta 0:00:14\n",
            "   ---------------------- ----------------- 56.6/101.0 MB 3.2 MB/s eta 0:00:14\n",
            "   ---------------------- ----------------- 57.4/101.0 MB 3.1 MB/s eta 0:00:15\n",
            "   ---------------------- ----------------- 57.7/101.0 MB 3.4 MB/s eta 0:00:13\n",
            "   ---------------------- ----------------- 57.7/101.0 MB 3.4 MB/s eta 0:00:13\n",
            "   ---------------------- ----------------- 57.7/101.0 MB 3.4 MB/s eta 0:00:13\n",
            "   ---------------------- ----------------- 57.7/101.0 MB 3.2 MB/s eta 0:00:14\n",
            "   ----------------------- ---------------- 58.7/101.0 MB 3.2 MB/s eta 0:00:14\n",
            "   ----------------------- ---------------- 58.7/101.0 MB 3.2 MB/s eta 0:00:14\n",
            "   ----------------------- ---------------- 58.7/101.0 MB 3.2 MB/s eta 0:00:14\n",
            "   ----------------------- ---------------- 58.7/101.0 MB 3.2 MB/s eta 0:00:14\n",
            "   ----------------------- ---------------- 58.9/101.0 MB 3.1 MB/s eta 0:00:14\n",
            "   ----------------------- ---------------- 59.6/101.0 MB 3.2 MB/s eta 0:00:13\n",
            "   ----------------------- ---------------- 59.8/101.0 MB 3.2 MB/s eta 0:00:13\n",
            "   ----------------------- ---------------- 59.8/101.0 MB 3.2 MB/s eta 0:00:13\n",
            "   ----------------------- ---------------- 59.8/101.0 MB 3.2 MB/s eta 0:00:13\n",
            "   ----------------------- ---------------- 59.8/101.0 MB 3.2 MB/s eta 0:00:13\n",
            "   ----------------------- ---------------- 59.8/101.0 MB 3.2 MB/s eta 0:00:13\n",
            "   ----------------------- ---------------- 59.8/101.0 MB 3.2 MB/s eta 0:00:13\n",
            "   ----------------------- ---------------- 59.8/101.0 MB 3.2 MB/s eta 0:00:13\n",
            "   ----------------------- ---------------- 59.8/101.0 MB 3.2 MB/s eta 0:00:13\n",
            "   ------------------------ --------------- 60.8/101.0 MB 3.4 MB/s eta 0:00:12\n",
            "   ------------------------ --------------- 60.8/101.0 MB 3.4 MB/s eta 0:00:12\n",
            "   ------------------------ --------------- 60.8/101.0 MB 3.4 MB/s eta 0:00:12\n",
            "   ------------------------ --------------- 60.8/101.0 MB 3.4 MB/s eta 0:00:12\n",
            "   ------------------------ --------------- 60.9/101.0 MB 3.2 MB/s eta 0:00:13\n",
            "   ------------------------ --------------- 61.9/101.0 MB 3.3 MB/s eta 0:00:13\n",
            "   ------------------------ --------------- 61.9/101.0 MB 3.3 MB/s eta 0:00:13\n",
            "   ------------------------ --------------- 61.9/101.0 MB 3.3 MB/s eta 0:00:13\n",
            "   ------------------------ --------------- 62.0/101.0 MB 3.1 MB/s eta 0:00:13\n",
            "   ------------------------ --------------- 62.9/101.0 MB 3.8 MB/s eta 0:00:11\n",
            "   ------------------------ --------------- 62.9/101.0 MB 3.8 MB/s eta 0:00:11\n",
            "   ------------------------ --------------- 62.9/101.0 MB 3.8 MB/s eta 0:00:11\n",
            "   ------------------------ --------------- 62.9/101.0 MB 3.8 MB/s eta 0:00:11\n",
            "   ------------------------ --------------- 62.9/101.0 MB 3.8 MB/s eta 0:00:11\n",
            "   ------------------------ --------------- 62.9/101.0 MB 3.8 MB/s eta 0:00:11\n",
            "   ------------------------ --------------- 63.0/101.0 MB 3.5 MB/s eta 0:00:11\n",
            "   ------------------------- -------------- 63.7/101.0 MB 3.5 MB/s eta 0:00:11\n",
            "   ------------------------- -------------- 64.0/101.0 MB 3.7 MB/s eta 0:00:10\n",
            "   ------------------------- -------------- 64.0/101.0 MB 3.7 MB/s eta 0:00:10\n",
            "   ------------------------- -------------- 64.0/101.0 MB 3.7 MB/s eta 0:00:10\n",
            "   ------------------------- -------------- 64.2/101.0 MB 3.5 MB/s eta 0:00:11\n",
            "   ------------------------- -------------- 65.0/101.0 MB 4.4 MB/s eta 0:00:09\n",
            "   ------------------------- -------------- 65.0/101.0 MB 4.4 MB/s eta 0:00:09\n",
            "   ------------------------- -------------- 65.0/101.0 MB 4.4 MB/s eta 0:00:09\n",
            "   ------------------------- -------------- 65.0/101.0 MB 4.4 MB/s eta 0:00:09\n",
            "   ------------------------- -------------- 65.6/101.0 MB 4.1 MB/s eta 0:00:09\n",
            "   -------------------------- ------------- 66.1/101.0 MB 4.5 MB/s eta 0:00:08\n",
            "   -------------------------- ------------- 66.1/101.0 MB 4.5 MB/s eta 0:00:08\n",
            "   -------------------------- ------------- 66.1/101.0 MB 4.5 MB/s eta 0:00:08\n",
            "   -------------------------- ------------- 66.4/101.0 MB 4.2 MB/s eta 0:00:09\n",
            "   -------------------------- ------------- 67.1/101.0 MB 4.5 MB/s eta 0:00:08\n",
            "   -------------------------- ------------- 67.1/101.0 MB 4.5 MB/s eta 0:00:08\n",
            "   -------------------------- ------------- 67.1/101.0 MB 4.5 MB/s eta 0:00:08\n",
            "   -------------------------- ------------- 67.1/101.0 MB 4.5 MB/s eta 0:00:08\n",
            "   -------------------------- ------------- 67.1/101.0 MB 4.5 MB/s eta 0:00:08\n",
            "   -------------------------- ------------- 67.1/101.0 MB 4.5 MB/s eta 0:00:08\n",
            "   -------------------------- ------------- 67.1/101.0 MB 4.5 MB/s eta 0:00:08\n",
            "   -------------------------- ------------- 67.1/101.0 MB 4.5 MB/s eta 0:00:08\n",
            "   -------------------------- ------------- 67.1/101.0 MB 4.5 MB/s eta 0:00:08\n",
            "   -------------------------- ------------- 67.1/101.0 MB 4.5 MB/s eta 0:00:08\n",
            "   -------------------------- ------------- 67.1/101.0 MB 4.5 MB/s eta 0:00:08\n",
            "   -------------------------- ------------- 67.1/101.0 MB 4.5 MB/s eta 0:00:08\n",
            "   -------------------------- ------------- 67.1/101.0 MB 4.5 MB/s eta 0:00:08\n",
            "   -------------------------- ------------- 67.1/101.0 MB 4.5 MB/s eta 0:00:08\n",
            "   -------------------------- ------------- 67.1/101.0 MB 4.5 MB/s eta 0:00:08\n",
            "   -------------------------- ------------- 67.1/101.0 MB 4.5 MB/s eta 0:00:08\n",
            "   -------------------------- ------------- 67.1/101.0 MB 4.5 MB/s eta 0:00:08\n",
            "   -------------------------- ------------- 67.4/101.0 MB 3.3 MB/s eta 0:00:11\n",
            "   -------------------------- ------------- 68.1/101.0 MB 3.5 MB/s eta 0:00:10\n",
            "   -------------------------- ------------- 68.2/101.0 MB 3.5 MB/s eta 0:00:10\n",
            "   -------------------------- ------------- 68.2/101.0 MB 3.5 MB/s eta 0:00:10\n",
            "   -------------------------- ------------- 68.2/101.0 MB 3.5 MB/s eta 0:00:10\n",
            "   -------------------------- ------------- 68.2/101.0 MB 3.5 MB/s eta 0:00:10\n",
            "   --------------------------- ------------ 68.7/101.0 MB 3.3 MB/s eta 0:00:10\n",
            "   --------------------------- ------------ 69.2/101.0 MB 3.5 MB/s eta 0:00:10\n",
            "   --------------------------- ------------ 69.2/101.0 MB 3.5 MB/s eta 0:00:10\n",
            "   --------------------------- ------------ 69.2/101.0 MB 3.5 MB/s eta 0:00:10\n",
            "   --------------------------- ------------ 69.2/101.0 MB 3.5 MB/s eta 0:00:10\n",
            "   --------------------------- ------------ 70.0/101.0 MB 3.7 MB/s eta 0:00:09\n",
            "   --------------------------- ------------ 70.2/101.0 MB 3.7 MB/s eta 0:00:09\n",
            "   --------------------------- ------------ 70.2/101.0 MB 3.7 MB/s eta 0:00:09\n",
            "   --------------------------- ------------ 70.2/101.0 MB 3.7 MB/s eta 0:00:09\n",
            "   --------------------------- ------------ 70.7/101.0 MB 3.5 MB/s eta 0:00:09\n",
            "   ---------------------------- ----------- 71.3/101.0 MB 3.8 MB/s eta 0:00:08\n",
            "   ---------------------------- ----------- 71.3/101.0 MB 3.8 MB/s eta 0:00:08\n",
            "   ---------------------------- ----------- 71.3/101.0 MB 3.8 MB/s eta 0:00:08\n",
            "   ---------------------------- ----------- 71.3/101.0 MB 3.8 MB/s eta 0:00:08\n",
            "   ---------------------------- ----------- 71.4/101.0 MB 3.5 MB/s eta 0:00:09\n",
            "   ---------------------------- ----------- 72.1/101.0 MB 3.5 MB/s eta 0:00:09\n",
            "   ---------------------------- ----------- 72.8/101.0 MB 3.7 MB/s eta 0:00:08\n",
            "   ---------------------------- ----------- 73.2/101.0 MB 4.0 MB/s eta 0:00:08\n",
            "   ----------------------------- ---------- 73.4/101.0 MB 4.0 MB/s eta 0:00:07\n",
            "   ----------------------------- ---------- 73.4/101.0 MB 4.0 MB/s eta 0:00:07\n",
            "   ----------------------------- ---------- 73.4/101.0 MB 4.0 MB/s eta 0:00:07\n",
            "   ----------------------------- ---------- 73.4/101.0 MB 4.0 MB/s eta 0:00:07\n",
            "   ----------------------------- ---------- 73.4/101.0 MB 4.0 MB/s eta 0:00:07\n",
            "   ----------------------------- ---------- 73.4/101.0 MB 4.0 MB/s eta 0:00:07\n",
            "   ----------------------------- ---------- 73.4/101.0 MB 4.0 MB/s eta 0:00:07\n",
            "   ----------------------------- ---------- 73.4/101.0 MB 4.0 MB/s eta 0:00:07\n",
            "   ----------------------------- ---------- 73.4/101.0 MB 4.0 MB/s eta 0:00:07\n",
            "   ----------------------------- ---------- 73.4/101.0 MB 4.0 MB/s eta 0:00:07\n",
            "   ----------------------------- ---------- 73.4/101.0 MB 4.0 MB/s eta 0:00:07\n",
            "   ----------------------------- ---------- 73.4/101.0 MB 4.0 MB/s eta 0:00:07\n",
            "   ----------------------------- ---------- 73.4/101.0 MB 4.0 MB/s eta 0:00:07\n",
            "   ----------------------------- ---------- 73.4/101.0 MB 4.0 MB/s eta 0:00:07\n",
            "   ----------------------------- ---------- 73.4/101.0 MB 4.0 MB/s eta 0:00:07\n",
            "   ----------------------------- ---------- 73.5/101.0 MB 3.1 MB/s eta 0:00:09\n",
            "   ----------------------------- ---------- 74.1/101.0 MB 3.1 MB/s eta 0:00:09\n",
            "   ----------------------------- ---------- 74.4/101.0 MB 3.3 MB/s eta 0:00:09\n",
            "   ----------------------------- ---------- 74.4/101.0 MB 3.3 MB/s eta 0:00:09\n",
            "   ----------------------------- ---------- 74.5/101.0 MB 3.1 MB/s eta 0:00:09\n",
            "   ----------------------------- ---------- 75.3/101.0 MB 3.3 MB/s eta 0:00:08\n",
            "   ----------------------------- ---------- 75.5/101.0 MB 3.3 MB/s eta 0:00:08\n",
            "   ----------------------------- ---------- 75.5/101.0 MB 3.3 MB/s eta 0:00:08\n",
            "   ----------------------------- ---------- 75.5/101.0 MB 3.3 MB/s eta 0:00:08\n",
            "   ----------------------------- ---------- 75.5/101.0 MB 3.1 MB/s eta 0:00:09\n",
            "   ------------------------------ --------- 76.1/101.0 MB 3.1 MB/s eta 0:00:08\n",
            "   ------------------------------ --------- 76.5/101.0 MB 3.3 MB/s eta 0:00:08\n",
            "   ------------------------------ --------- 76.5/101.0 MB 3.3 MB/s eta 0:00:08\n",
            "   ------------------------------ --------- 76.5/101.0 MB 3.3 MB/s eta 0:00:08\n",
            "   ------------------------------ --------- 76.5/101.0 MB 3.3 MB/s eta 0:00:08\n",
            "   ------------------------------ --------- 76.5/101.0 MB 3.3 MB/s eta 0:00:08\n",
            "   ------------------------------ --------- 76.5/101.0 MB 3.3 MB/s eta 0:00:08\n",
            "   ------------------------------ --------- 76.5/101.0 MB 3.3 MB/s eta 0:00:08\n",
            "   ------------------------------ --------- 76.7/101.0 MB 2.9 MB/s eta 0:00:09\n",
            "   ------------------------------ --------- 77.6/101.0 MB 3.8 MB/s eta 0:00:07\n",
            "   ------------------------------ --------- 77.6/101.0 MB 3.8 MB/s eta 0:00:07\n",
            "   ------------------------------ --------- 77.6/101.0 MB 3.8 MB/s eta 0:00:07\n",
            "   ------------------------------ --------- 77.6/101.0 MB 3.8 MB/s eta 0:00:07\n",
            "   ------------------------------ --------- 77.8/101.0 MB 3.6 MB/s eta 0:00:07\n",
            "   ------------------------------- -------- 78.6/101.0 MB 3.9 MB/s eta 0:00:06\n",
            "   ------------------------------- -------- 78.6/101.0 MB 3.9 MB/s eta 0:00:06\n",
            "   ------------------------------- -------- 78.6/101.0 MB 3.9 MB/s eta 0:00:06\n",
            "   ------------------------------- -------- 78.6/101.0 MB 3.9 MB/s eta 0:00:06\n",
            "   ------------------------------- -------- 79.1/101.0 MB 3.6 MB/s eta 0:00:07\n",
            "   ------------------------------- -------- 79.7/101.0 MB 3.9 MB/s eta 0:00:06\n",
            "   ------------------------------- -------- 79.7/101.0 MB 3.9 MB/s eta 0:00:06\n",
            "   ------------------------------- -------- 79.7/101.0 MB 3.9 MB/s eta 0:00:06\n",
            "   ------------------------------- -------- 79.7/101.0 MB 3.9 MB/s eta 0:00:06\n",
            "   ------------------------------- -------- 79.9/101.0 MB 3.6 MB/s eta 0:00:06\n",
            "   ------------------------------- -------- 80.6/101.0 MB 3.8 MB/s eta 0:00:06\n",
            "   ------------------------------- -------- 80.7/101.0 MB 3.8 MB/s eta 0:00:06\n",
            "   ------------------------------- -------- 80.7/101.0 MB 3.8 MB/s eta 0:00:06\n",
            "   ------------------------------- -------- 80.7/101.0 MB 3.8 MB/s eta 0:00:06\n",
            "   -------------------------------- ------- 81.1/101.0 MB 3.5 MB/s eta 0:00:06\n",
            "   -------------------------------- ------- 81.8/101.0 MB 3.8 MB/s eta 0:00:06\n",
            "   -------------------------------- ------- 81.8/101.0 MB 3.8 MB/s eta 0:00:06\n",
            "   -------------------------------- ------- 81.8/101.0 MB 3.8 MB/s eta 0:00:06\n",
            "   -------------------------------- ------- 81.8/101.0 MB 3.8 MB/s eta 0:00:06\n",
            "   -------------------------------- ------- 81.8/101.0 MB 3.8 MB/s eta 0:00:06\n",
            "   -------------------------------- ------- 81.8/101.0 MB 3.8 MB/s eta 0:00:06\n",
            "   -------------------------------- ------- 81.8/101.0 MB 3.8 MB/s eta 0:00:06\n",
            "   -------------------------------- ------- 81.8/101.0 MB 3.8 MB/s eta 0:00:06\n",
            "   -------------------------------- ------- 81.8/101.0 MB 3.8 MB/s eta 0:00:06\n",
            "   -------------------------------- ------- 81.8/101.0 MB 3.8 MB/s eta 0:00:06\n",
            "   -------------------------------- ------- 81.8/101.0 MB 3.8 MB/s eta 0:00:06\n",
            "   -------------------------------- ------- 81.8/101.0 MB 3.8 MB/s eta 0:00:06\n",
            "   -------------------------------- ------- 81.8/101.0 MB 3.8 MB/s eta 0:00:06\n",
            "   -------------------------------- ------- 81.8/101.0 MB 3.8 MB/s eta 0:00:06\n",
            "   -------------------------------- ------- 81.8/101.0 MB 3.8 MB/s eta 0:00:06\n",
            "   -------------------------------- ------- 81.8/101.0 MB 3.8 MB/s eta 0:00:06\n",
            "   -------------------------------- ------- 81.8/101.0 MB 3.8 MB/s eta 0:00:06\n",
            "   -------------------------------- ------- 81.8/101.0 MB 3.8 MB/s eta 0:00:06\n",
            "   -------------------------------- ------- 81.8/101.0 MB 3.8 MB/s eta 0:00:06\n",
            "   -------------------------------- ------- 81.8/101.0 MB 3.8 MB/s eta 0:00:06\n",
            "   -------------------------------- ------- 81.8/101.0 MB 3.8 MB/s eta 0:00:06\n",
            "   -------------------------------- ------- 81.8/101.0 MB 3.8 MB/s eta 0:00:06\n",
            "   -------------------------------- ------- 81.8/101.0 MB 3.8 MB/s eta 0:00:06\n",
            "   -------------------------------- ------- 81.8/101.0 MB 3.8 MB/s eta 0:00:06\n",
            "   -------------------------------- ------- 81.8/101.0 MB 3.8 MB/s eta 0:00:06\n",
            "   -------------------------------- ------- 81.8/101.0 MB 3.8 MB/s eta 0:00:06\n",
            "   -------------------------------- ------- 81.8/101.0 MB 3.8 MB/s eta 0:00:06\n",
            "   -------------------------------- ------- 81.8/101.0 MB 3.8 MB/s eta 0:00:06\n",
            "   -------------------------------- ------- 81.8/101.0 MB 3.8 MB/s eta 0:00:06\n",
            "   -------------------------------- ------- 81.8/101.0 MB 3.8 MB/s eta 0:00:06\n",
            "   -------------------------------- ------- 81.8/101.0 MB 3.8 MB/s eta 0:00:06\n",
            "   -------------------------------- ------- 81.8/101.0 MB 3.8 MB/s eta 0:00:06\n",
            "   -------------------------------- ------- 81.8/101.0 MB 3.8 MB/s eta 0:00:06\n",
            "   -------------------------------- ------- 81.8/101.0 MB 3.8 MB/s eta 0:00:06\n",
            "   -------------------------------- ------- 81.8/101.0 MB 3.8 MB/s eta 0:00:06\n",
            "   -------------------------------- ------- 81.8/101.0 MB 3.8 MB/s eta 0:00:06\n",
            "   -------------------------------- ------- 81.8/101.0 MB 3.8 MB/s eta 0:00:06\n",
            "   -------------------------------- ------- 81.8/101.0 MB 3.8 MB/s eta 0:00:06\n",
            "   -------------------------------- ------- 81.8/101.0 MB 3.8 MB/s eta 0:00:06\n",
            "   -------------------------------- ------- 81.8/101.0 MB 3.8 MB/s eta 0:00:06\n",
            "   -------------------------------- ------- 81.8/101.0 MB 3.8 MB/s eta 0:00:06\n",
            "   -------------------------------- ------- 81.8/101.0 MB 3.8 MB/s eta 0:00:06\n",
            "   -------------------------------- ------- 81.8/101.0 MB 3.8 MB/s eta 0:00:06\n",
            "   -------------------------------- ------- 81.8/101.0 MB 3.8 MB/s eta 0:00:06\n",
            "   -------------------------------- ------- 81.8/101.0 MB 3.8 MB/s eta 0:00:06\n",
            "   -------------------------------- ------- 81.8/101.0 MB 3.8 MB/s eta 0:00:06\n",
            "   -------------------------------- ------- 81.8/101.0 MB 3.8 MB/s eta 0:00:06\n",
            "   -------------------------------- ------- 81.8/101.0 MB 3.8 MB/s eta 0:00:06\n",
            "   -------------------------------- ------- 81.8/101.0 MB 3.8 MB/s eta 0:00:06\n",
            "   -------------------------------- ------- 81.8/101.0 MB 3.8 MB/s eta 0:00:06\n",
            "   -------------------------------- ------- 81.8/101.0 MB 3.8 MB/s eta 0:00:06\n",
            "   -------------------------------- ------- 81.8/101.0 MB 3.8 MB/s eta 0:00:06\n",
            "   -------------------------------- ------- 81.8/101.0 MB 3.8 MB/s eta 0:00:06\n",
            "   -------------------------------- ------- 81.8/101.0 MB 3.8 MB/s eta 0:00:06\n",
            "   -------------------------------- ------- 81.8/101.0 MB 3.8 MB/s eta 0:00:06\n",
            "   -------------------------------- ------- 81.8/101.0 MB 3.8 MB/s eta 0:00:06\n",
            "   -------------------------------- ------- 81.8/101.0 MB 3.8 MB/s eta 0:00:06\n",
            "   -------------------------------- ------- 81.8/101.0 MB 3.8 MB/s eta 0:00:06\n",
            "   -------------------------------- ------- 81.8/101.0 MB 3.8 MB/s eta 0:00:06\n",
            "   -------------------------------- ------- 81.8/101.0 MB 3.8 MB/s eta 0:00:06\n",
            "   -------------------------------- ------- 81.8/101.0 MB 3.8 MB/s eta 0:00:06\n",
            "   -------------------------------- ------- 81.8/101.0 MB 3.8 MB/s eta 0:00:06\n",
            "   -------------------------------- ------- 81.8/101.0 MB 3.8 MB/s eta 0:00:06\n",
            "   -------------------------------- ------- 81.8/101.0 MB 3.8 MB/s eta 0:00:06\n",
            "   -------------------------------- ------- 81.8/101.0 MB 3.8 MB/s eta 0:00:06\n",
            "   -------------------------------- ------- 81.8/101.0 MB 3.8 MB/s eta 0:00:06\n",
            "   -------------------------------- ------- 81.8/101.0 MB 3.8 MB/s eta 0:00:06\n",
            "   -------------------------------- ------- 81.8/101.0 MB 3.8 MB/s eta 0:00:06\n",
            "   -------------------------------- ------- 81.8/101.0 MB 3.8 MB/s eta 0:00:06\n",
            "   -------------------------------- ------- 81.8/101.0 MB 3.8 MB/s eta 0:00:06\n",
            "   -------------------------------- ------- 81.8/101.0 MB 3.8 MB/s eta 0:00:06\n",
            "   -------------------------------- ------- 81.8/101.0 MB 3.8 MB/s eta 0:00:06\n",
            "   -------------------------------- ------- 81.8/101.0 MB 3.8 MB/s eta 0:00:06\n",
            "   -------------------------------- ------- 81.8/101.0 MB 3.8 MB/s eta 0:00:06\n",
            "   -------------------------------- ------- 82.1/101.0 MB 1.7 MB/s eta 0:00:12\n",
            "   -------------------------------- ------- 82.8/101.0 MB 1.7 MB/s eta 0:00:11\n",
            "   -------------------------------- ------- 82.8/101.0 MB 1.7 MB/s eta 0:00:11\n",
            "   -------------------------------- ------- 82.8/101.0 MB 1.7 MB/s eta 0:00:11\n",
            "   -------------------------------- ------- 82.8/101.0 MB 1.7 MB/s eta 0:00:11\n",
            "   -------------------------------- ------- 83.3/101.0 MB 1.6 MB/s eta 0:00:11\n",
            "   --------------------------------- ------ 83.9/101.0 MB 1.9 MB/s eta 0:00:10\n",
            "   --------------------------------- ------ 83.9/101.0 MB 1.9 MB/s eta 0:00:10\n",
            "   --------------------------------- ------ 83.9/101.0 MB 1.9 MB/s eta 0:00:10\n",
            "   --------------------------------- ------ 83.9/101.0 MB 1.9 MB/s eta 0:00:10\n",
            "   --------------------------------- ------ 83.9/101.0 MB 1.9 MB/s eta 0:00:10\n",
            "   --------------------------------- ------ 83.9/101.0 MB 1.9 MB/s eta 0:00:10\n",
            "   --------------------------------- ------ 84.6/101.0 MB 1.8 MB/s eta 0:00:10\n",
            "   --------------------------------- ------ 84.9/101.0 MB 1.8 MB/s eta 0:00:09\n",
            "   --------------------------------- ------ 84.9/101.0 MB 1.8 MB/s eta 0:00:09\n",
            "   --------------------------------- ------ 84.9/101.0 MB 1.8 MB/s eta 0:00:09\n",
            "   --------------------------------- ------ 84.9/101.0 MB 1.8 MB/s eta 0:00:09\n",
            "   --------------------------------- ------ 84.9/101.0 MB 1.8 MB/s eta 0:00:09\n",
            "   ---------------------------------- ----- 85.9/101.0 MB 1.8 MB/s eta 0:00:09\n",
            "   ---------------------------------- ----- 86.0/101.0 MB 1.8 MB/s eta 0:00:09\n",
            "   ---------------------------------- ----- 86.0/101.0 MB 1.8 MB/s eta 0:00:09\n",
            "   ---------------------------------- ----- 86.0/101.0 MB 1.8 MB/s eta 0:00:09\n",
            "   ---------------------------------- ----- 86.0/101.0 MB 1.8 MB/s eta 0:00:09\n",
            "   ---------------------------------- ----- 86.6/101.0 MB 1.7 MB/s eta 0:00:09\n",
            "   ---------------------------------- ----- 87.0/101.0 MB 1.8 MB/s eta 0:00:08\n",
            "   ---------------------------------- ----- 87.0/101.0 MB 1.8 MB/s eta 0:00:08\n",
            "   ---------------------------------- ----- 87.0/101.0 MB 1.8 MB/s eta 0:00:08\n",
            "   ---------------------------------- ----- 87.0/101.0 MB 1.8 MB/s eta 0:00:08\n",
            "   ---------------------------------- ----- 87.0/101.0 MB 1.8 MB/s eta 0:00:08\n",
            "   ---------------------------------- ----- 87.0/101.0 MB 1.8 MB/s eta 0:00:08\n",
            "   ---------------------------------- ----- 87.0/101.0 MB 1.8 MB/s eta 0:00:08\n",
            "   ---------------------------------- ----- 87.0/101.0 MB 1.8 MB/s eta 0:00:08\n",
            "   ---------------------------------- ----- 87.0/101.0 MB 1.8 MB/s eta 0:00:08\n",
            "   ---------------------------------- ----- 87.0/101.0 MB 1.8 MB/s eta 0:00:08\n",
            "   ---------------------------------- ----- 87.0/101.0 MB 1.8 MB/s eta 0:00:08\n",
            "   ---------------------------------- ----- 87.0/101.0 MB 1.8 MB/s eta 0:00:08\n",
            "   ---------------------------------- ----- 87.0/101.0 MB 1.8 MB/s eta 0:00:08\n",
            "   ---------------------------------- ----- 87.7/101.0 MB 1.7 MB/s eta 0:00:08\n",
            "   ----------------------------------- ---- 88.6/101.0 MB 1.7 MB/s eta 0:00:08\n",
            "   ----------------------------------- ---- 89.0/101.0 MB 1.8 MB/s eta 0:00:07\n",
            "   ----------------------------------- ---- 89.1/101.0 MB 1.8 MB/s eta 0:00:07\n",
            "   ----------------------------------- ---- 89.1/101.0 MB 1.8 MB/s eta 0:00:07\n",
            "   ----------------------------------- ---- 90.2/101.0 MB 1.8 MB/s eta 0:00:07\n",
            "   ----------------------------------- ---- 90.2/101.0 MB 1.8 MB/s eta 0:00:07\n",
            "   ----------------------------------- ---- 90.2/101.0 MB 1.8 MB/s eta 0:00:07\n",
            "   ----------------------------------- ---- 90.2/101.0 MB 1.8 MB/s eta 0:00:07\n",
            "   ----------------------------------- ---- 90.2/101.0 MB 1.8 MB/s eta 0:00:07\n",
            "   ----------------------------------- ---- 90.7/101.0 MB 1.7 MB/s eta 0:00:06\n",
            "   ------------------------------------ --- 91.2/101.0 MB 1.8 MB/s eta 0:00:06\n",
            "   ------------------------------------ --- 91.2/101.0 MB 1.8 MB/s eta 0:00:06\n",
            "   ------------------------------------ --- 91.2/101.0 MB 1.8 MB/s eta 0:00:06\n",
            "   ------------------------------------ --- 91.2/101.0 MB 1.8 MB/s eta 0:00:06\n",
            "   ------------------------------------ --- 91.4/101.0 MB 1.7 MB/s eta 0:00:06\n",
            "   ------------------------------------ --- 92.3/101.0 MB 4.2 MB/s eta 0:00:03\n",
            "   ------------------------------------ --- 92.3/101.0 MB 4.2 MB/s eta 0:00:03\n",
            "   ------------------------------------ --- 92.3/101.0 MB 4.2 MB/s eta 0:00:03\n",
            "   ------------------------------------ --- 92.3/101.0 MB 4.2 MB/s eta 0:00:03\n",
            "   ------------------------------------ --- 92.9/101.0 MB 3.9 MB/s eta 0:00:03\n",
            "   ------------------------------------ --- 93.3/101.0 MB 4.1 MB/s eta 0:00:02\n",
            "   ------------------------------------ --- 93.3/101.0 MB 4.1 MB/s eta 0:00:02\n",
            "   ------------------------------------ --- 93.3/101.0 MB 4.1 MB/s eta 0:00:02\n",
            "   ------------------------------------ --- 93.3/101.0 MB 4.1 MB/s eta 0:00:02\n",
            "   ------------------------------------- -- 93.9/101.0 MB 3.9 MB/s eta 0:00:02\n",
            "   ------------------------------------- -- 95.0/101.0 MB 4.3 MB/s eta 0:00:02\n",
            "   ------------------------------------- -- 95.4/101.0 MB 4.8 MB/s eta 0:00:02\n",
            "   ------------------------------------- -- 95.4/101.0 MB 4.8 MB/s eta 0:00:02\n",
            "   ------------------------------------- -- 95.4/101.0 MB 4.8 MB/s eta 0:00:02\n",
            "   ------------------------------------- -- 95.4/101.0 MB 4.8 MB/s eta 0:00:02\n",
            "   ------------------------------------- -- 95.4/101.0 MB 4.4 MB/s eta 0:00:02\n",
            "   -------------------------------------- - 96.3/101.0 MB 4.7 MB/s eta 0:00:01\n",
            "   -------------------------------------- - 96.5/101.0 MB 4.7 MB/s eta 0:00:01\n",
            "   -------------------------------------- - 96.5/101.0 MB 4.7 MB/s eta 0:00:01\n",
            "   -------------------------------------- - 96.5/101.0 MB 4.7 MB/s eta 0:00:01\n",
            "   -------------------------------------- - 96.5/101.0 MB 4.7 MB/s eta 0:00:01\n",
            "   -------------------------------------- - 96.5/101.0 MB 4.7 MB/s eta 0:00:01\n",
            "   -------------------------------------- - 96.5/101.0 MB 4.7 MB/s eta 0:00:01\n",
            "   -------------------------------------- - 96.5/101.0 MB 4.7 MB/s eta 0:00:01\n",
            "   -------------------------------------- - 96.5/101.0 MB 4.0 MB/s eta 0:00:02\n",
            "   -------------------------------------- - 97.4/101.0 MB 5.3 MB/s eta 0:00:01\n",
            "   -------------------------------------- - 97.5/101.0 MB 5.3 MB/s eta 0:00:01\n",
            "   -------------------------------------- - 97.5/101.0 MB 5.3 MB/s eta 0:00:01\n",
            "   -------------------------------------- - 97.5/101.0 MB 5.3 MB/s eta 0:00:01\n",
            "   -------------------------------------- - 97.5/101.0 MB 5.3 MB/s eta 0:00:01\n",
            "   -------------------------------------- - 97.8/101.0 MB 4.8 MB/s eta 0:00:01\n",
            "   ---------------------------------------  98.6/101.0 MB 4.7 MB/s eta 0:00:01\n",
            "   ---------------------------------------  98.6/101.0 MB 4.7 MB/s eta 0:00:01\n",
            "   ---------------------------------------  98.6/101.0 MB 4.7 MB/s eta 0:00:01\n",
            "   ---------------------------------------  98.7/101.0 MB 4.5 MB/s eta 0:00:01\n",
            "   ---------------------------------------  99.6/101.0 MB 4.7 MB/s eta 0:00:01\n",
            "   ---------------------------------------  99.6/101.0 MB 4.7 MB/s eta 0:00:01\n",
            "   ---------------------------------------  99.6/101.0 MB 4.7 MB/s eta 0:00:01\n",
            "   ---------------------------------------  99.6/101.0 MB 4.7 MB/s eta 0:00:01\n",
            "   ---------------------------------------  99.6/101.0 MB 4.7 MB/s eta 0:00:01\n",
            "   ---------------------------------------  99.6/101.0 MB 4.7 MB/s eta 0:00:01\n",
            "   ---------------------------------------  99.6/101.0 MB 4.7 MB/s eta 0:00:01\n",
            "   ---------------------------------------  99.6/101.0 MB 4.7 MB/s eta 0:00:01\n",
            "   ---------------------------------------  99.6/101.0 MB 4.7 MB/s eta 0:00:01\n",
            "   ---------------------------------------  99.6/101.0 MB 4.7 MB/s eta 0:00:01\n",
            "   ---------------------------------------  99.6/101.0 MB 4.7 MB/s eta 0:00:01\n",
            "   ---------------------------------------  99.6/101.0 MB 4.7 MB/s eta 0:00:01\n",
            "   ---------------------------------------  99.6/101.0 MB 4.7 MB/s eta 0:00:01\n",
            "   ---------------------------------------  99.6/101.0 MB 4.7 MB/s eta 0:00:01\n",
            "   ---------------------------------------  99.6/101.0 MB 4.7 MB/s eta 0:00:01\n",
            "   ---------------------------------------  99.6/101.0 MB 4.7 MB/s eta 0:00:01\n",
            "   ---------------------------------------  99.6/101.0 MB 4.7 MB/s eta 0:00:01\n",
            "   ---------------------------------------  99.6/101.0 MB 4.7 MB/s eta 0:00:01\n",
            "   ---------------------------------------  99.6/101.0 MB 4.7 MB/s eta 0:00:01\n",
            "   ---------------------------------------  99.6/101.0 MB 4.7 MB/s eta 0:00:01\n",
            "   ---------------------------------------  100.2/101.0 MB 3.3 MB/s eta 0:00:01\n",
            "   ---------------------------------------  100.7/101.0 MB 3.5 MB/s eta 0:00:01\n",
            "   ---------------------------------------  100.7/101.0 MB 3.5 MB/s eta 0:00:01\n",
            "   ---------------------------------------  100.7/101.0 MB 3.5 MB/s eta 0:00:01\n",
            "   ---------------------------------------  100.7/101.0 MB 3.5 MB/s eta 0:00:01\n",
            "   ---------------------------------------  101.0/101.0 MB 3.4 MB/s eta 0:00:01\n",
            "   ---------------------------------------  101.0/101.0 MB 3.4 MB/s eta 0:00:01\n",
            "   ---------------------------------------  101.0/101.0 MB 3.4 MB/s eta 0:00:01\n",
            "   ---------------------------------------  101.0/101.0 MB 3.4 MB/s eta 0:00:01\n",
            "   ---------------------------------------- 101.0/101.0 MB 3.1 MB/s eta 0:00:00\n",
            "Downloading plotly-5.18.0-py3-none-any.whl (15.6 MB)\n",
            "   ---------------------------------------- 0.0/15.6 MB ? eta -:--:--\n",
            "   - -------------------------------------- 0.7/15.6 MB 23.0 MB/s eta 0:00:01\n",
            "   ---- ----------------------------------- 1.7/15.6 MB 21.9 MB/s eta 0:00:01\n",
            "   ---- ----------------------------------- 1.8/15.6 MB 22.6 MB/s eta 0:00:01\n",
            "   ----- ---------------------------------- 2.3/15.6 MB 14.6 MB/s eta 0:00:01\n",
            "   -------- ------------------------------- 3.5/15.6 MB 17.1 MB/s eta 0:00:01\n",
            "   --------- ------------------------------ 3.9/15.6 MB 15.4 MB/s eta 0:00:01\n",
            "   ---------- ----------------------------- 4.2/15.6 MB 14.1 MB/s eta 0:00:01\n",
            "   ------------- -------------------------- 5.1/15.6 MB 14.9 MB/s eta 0:00:01\n",
            "   ---------------- ----------------------- 6.3/15.6 MB 16.2 MB/s eta 0:00:01\n",
            "   ------------------ --------------------- 7.3/15.6 MB 16.6 MB/s eta 0:00:01\n",
            "   -------------------- ------------------- 8.1/15.6 MB 16.7 MB/s eta 0:00:01\n",
            "   ------------------------ --------------- 9.4/15.6 MB 17.7 MB/s eta 0:00:01\n",
            "   ------------------------- -------------- 10.1/15.6 MB 17.5 MB/s eta 0:00:01\n",
            "   ---------------------------- ----------- 11.2/15.6 MB 17.3 MB/s eta 0:00:01\n",
            "   ------------------------------- -------- 12.2/15.6 MB 19.9 MB/s eta 0:00:01\n",
            "   --------------------------------- ------ 13.0/15.6 MB 19.9 MB/s eta 0:00:01\n",
            "   ---------------------------------- ----- 13.6/15.6 MB 18.2 MB/s eta 0:00:01\n",
            "   ----------------------------------- ---- 13.9/15.6 MB 17.2 MB/s eta 0:00:01\n",
            "   ------------------------------------ --- 14.3/15.6 MB 18.2 MB/s eta 0:00:01\n",
            "   -------------------------------------- - 15.2/15.6 MB 18.2 MB/s eta 0:00:01\n",
            "   ---------------------------------------  15.6/15.6 MB 17.7 MB/s eta 0:00:01\n",
            "   ---------------------------------------  15.6/15.6 MB 17.3 MB/s eta 0:00:01\n",
            "   ---------------------------------------- 15.6/15.6 MB 15.6 MB/s eta 0:00:00\n",
            "Downloading tenacity-8.2.3-py3-none-any.whl (24 kB)\n",
            "Installing collected packages: tenacity, graphviz, plotly, catboost\n",
            "Successfully installed catboost-1.2.2 graphviz-0.20.1 plotly-5.18.0 tenacity-8.2.3\n",
            "Note: you may need to restart the kernel to use updated packages.\n"
          ]
        },
        {
          "name": "stderr",
          "output_type": "stream",
          "text": [
            "\n",
            "[notice] A new release of pip is available: 23.2.1 -> 23.3.1\n",
            "[notice] To update, run: C:\\Users\\bilker\\AppData\\Local\\Microsoft\\WindowsApps\\PythonSoftwareFoundation.Python.3.10_qbz5n2kfra8p0\\python.exe -m pip install --upgrade pip\n"
          ]
        }
      ],
      "source": [
        "pip install catboost"
      ]
    },
    {
      "cell_type": "code",
      "execution_count": 20,
      "metadata": {
        "id": "JUhNXvZ5IUPq"
      },
      "outputs": [],
      "source": [
        "from catboost import CatBoostRegressor"
      ]
    },
    {
      "cell_type": "markdown",
      "metadata": {
        "id": "_p0YiHYDuR8v"
      },
      "source": [
        "# TTTTRR"
      ]
    },
    {
      "cell_type": "code",
      "execution_count": 21,
      "metadata": {
        "colab": {
          "base_uri": "https://localhost:8080/",
          "height": 390
        },
        "id": "mPusxMeNH6cY",
        "outputId": "3960f37e-bb7b-471c-a789-2e801636b246"
      },
      "outputs": [
        {
          "ename": "ModuleNotFoundError",
          "evalue": "No module named 'xgboost'",
          "output_type": "error",
          "traceback": [
            "\u001b[1;31m---------------------------------------------------------------------------\u001b[0m",
            "\u001b[1;31mModuleNotFoundError\u001b[0m                       Traceback (most recent call last)",
            "Cell \u001b[1;32mIn[21], line 4\u001b[0m\n\u001b[0;32m      2\u001b[0m \u001b[38;5;28;01mfrom\u001b[39;00m \u001b[38;5;21;01msklearn\u001b[39;00m\u001b[38;5;21;01m.\u001b[39;00m\u001b[38;5;21;01mensemble\u001b[39;00m \u001b[38;5;28;01mimport\u001b[39;00m RandomForestRegressor\n\u001b[0;32m      3\u001b[0m \u001b[38;5;28;01mfrom\u001b[39;00m \u001b[38;5;21;01msklearn\u001b[39;00m\u001b[38;5;21;01m.\u001b[39;00m\u001b[38;5;21;01msvm\u001b[39;00m \u001b[38;5;28;01mimport\u001b[39;00m SVR\n\u001b[1;32m----> 4\u001b[0m \u001b[38;5;28;01mfrom\u001b[39;00m \u001b[38;5;21;01mxgboost\u001b[39;00m \u001b[38;5;28;01mimport\u001b[39;00m XGBRegressor\n\u001b[0;32m      5\u001b[0m \u001b[38;5;28;01mfrom\u001b[39;00m \u001b[38;5;21;01mlightgbm\u001b[39;00m \u001b[38;5;28;01mimport\u001b[39;00m LGBMRegressor\n\u001b[0;32m      6\u001b[0m \u001b[38;5;28;01mfrom\u001b[39;00m \u001b[38;5;21;01mcatboost\u001b[39;00m \u001b[38;5;28;01mimport\u001b[39;00m CatBoostRegressor\n",
            "\u001b[1;31mModuleNotFoundError\u001b[0m: No module named 'xgboost'"
          ]
        }
      ],
      "source": [
        "from sklearn.model_selection import train_test_split\n",
        "from sklearn.ensemble import RandomForestRegressor\n",
        "from sklearn.svm import SVR\n",
        "from xgboost import XGBRegressor\n",
        "from lightgbm import LGBMRegressor\n",
        "from catboost import CatBoostRegressor\n",
        "from sklearn.metrics import mean_squared_error, mean_absolute_error, r2_score\n",
        "import pandas as pd\n",
        "\n",
        "# Assuming df_no_outliers is your preprocessed DataFrame without outliers\n",
        "\n",
        "# Exclude 'Umax', 'Pmax', 'Imax', 'Day', and 'FF_raw' from features\n",
        "features = df_no_outliers.drop(['Umax', 'Pmax', 'Imax', 'Day', 'FF_raw','Time'], axis=1)\n",
        "target = df_no_outliers['Umax']\n",
        "\n",
        "# Split the data into training and testing sets\n",
        "X_train, X_test, y_train, y_test = train_test_split(features, target, test_size=0.2, random_state=42)\n",
        "\n",
        "# Random Forest\n",
        "rf_model = RandomForestRegressor(n_estimators=100, random_state=42)\n",
        "rf_model.fit(X_train, y_train)\n",
        "y_pred_rf = rf_model.predict(X_test)\n",
        "mse_rf = mean_squared_error(y_test, y_pred_rf)\n",
        "mae_rf = mean_absolute_error(y_test, y_pred_rf)\n",
        "r2_rf = r2_score(y_test, y_pred_rf)\n",
        "\n",
        "# Support Vector Machines\n",
        "svm_model = SVR()\n",
        "svm_model.fit(X_train, y_train)\n",
        "y_pred_svm = svm_model.predict(X_test)\n",
        "mse_svm = mean_squared_error(y_test, y_pred_svm)\n",
        "mae_svm = mean_absolute_error(y_test, y_pred_svm)\n",
        "r2_svm = r2_score(y_test, y_pred_svm)\n",
        "\n",
        "# XGBoost\n",
        "xgb_model = XGBRegressor(random_state=42)\n",
        "xgb_model.fit(X_train, y_train)\n",
        "y_pred_xgb = xgb_model.predict(X_test)\n",
        "mse_xgb = mean_squared_error(y_test, y_pred_xgb)\n",
        "mae_xgb = mean_absolute_error(y_test, y_pred_xgb)\n",
        "r2_xgb = r2_score(y_test, y_pred_xgb)\n",
        "\n",
        "# LightGBM\n",
        "lgbm_model = LGBMRegressor(random_state=42)\n",
        "lgbm_model.fit(X_train, y_train)\n",
        "y_pred_lgbm = lgbm_model.predict(X_test)\n",
        "mse_lgbm = mean_squared_error(y_test, y_pred_lgbm)\n",
        "mae_lgbm = mean_absolute_error(y_test, y_pred_lgbm)\n",
        "r2_lgbm = r2_score(y_test, y_pred_lgbm)\n",
        "\n",
        "# CatBoost\n",
        "catboost_model = CatBoostRegressor(random_state=42, verbose=0)\n",
        "catboost_model.fit(X_train, y_train)\n",
        "y_pred_catboost = catboost_model.predict(X_test)\n",
        "mse_catboost = mean_squared_error(y_test, y_pred_catboost)\n",
        "mae_catboost = mean_absolute_error(y_test, y_pred_catboost)\n",
        "r2_catboost = r2_score(y_test, y_pred_catboost)\n",
        "\n",
        "# Create a DataFrame to store the results\n",
        "results_df = pd.DataFrame({\n",
        "    'Model': ['Random Forest', 'SVM', 'XGBoost', 'LightGBM', 'CatBoost'],\n",
        "    'MSE': [mse_rf, mse_svm, mse_xgb, mse_lgbm, mse_catboost],\n",
        "    'MAE': [mae_rf, mae_svm, mae_xgb, mae_lgbm, mae_catboost],\n",
        "    'R-squared': [r2_rf, r2_svm, r2_xgb, r2_lgbm, r2_catboost]\n",
        "})\n",
        "\n",
        "# Display the results\n",
        "print(results_df)\n"
      ]
    },
    {
      "cell_type": "code",
      "execution_count": null,
      "metadata": {
        "colab": {
          "base_uri": "https://localhost:8080/",
          "height": 247
        },
        "id": "T_HPFiURImch",
        "outputId": "8ca63313-d1e3-4a3e-d6e3-80ec95e0ace1"
      },
      "outputs": [
        {
          "data": {
            "text/html": [
              "\n",
              "  <div id=\"df-d7621d4f-c8d3-4e8d-b28a-23f33ab42485\" class=\"colab-df-container\">\n",
              "    <div>\n",
              "<style scoped>\n",
              "    .dataframe tbody tr th:only-of-type {\n",
              "        vertical-align: middle;\n",
              "    }\n",
              "\n",
              "    .dataframe tbody tr th {\n",
              "        vertical-align: top;\n",
              "    }\n",
              "\n",
              "    .dataframe thead th {\n",
              "        text-align: right;\n",
              "    }\n",
              "</style>\n",
              "<table border=\"1\" class=\"dataframe\">\n",
              "  <thead>\n",
              "    <tr style=\"text-align: right;\">\n",
              "      <th></th>\n",
              "      <th>Model</th>\n",
              "      <th>MSE</th>\n",
              "      <th>MAE</th>\n",
              "      <th>R-squared</th>\n",
              "    </tr>\n",
              "  </thead>\n",
              "  <tbody>\n",
              "    <tr>\n",
              "      <th>0</th>\n",
              "      <td>Random Forest</td>\n",
              "      <td>0.000339</td>\n",
              "      <td>0.012883</td>\n",
              "      <td>0.952559</td>\n",
              "    </tr>\n",
              "    <tr>\n",
              "      <th>1</th>\n",
              "      <td>SVM</td>\n",
              "      <td>0.006744</td>\n",
              "      <td>0.065154</td>\n",
              "      <td>0.054960</td>\n",
              "    </tr>\n",
              "    <tr>\n",
              "      <th>2</th>\n",
              "      <td>XGBoost</td>\n",
              "      <td>0.000360</td>\n",
              "      <td>0.013270</td>\n",
              "      <td>0.949524</td>\n",
              "    </tr>\n",
              "    <tr>\n",
              "      <th>3</th>\n",
              "      <td>LightGBM</td>\n",
              "      <td>0.000760</td>\n",
              "      <td>0.016832</td>\n",
              "      <td>0.893568</td>\n",
              "    </tr>\n",
              "    <tr>\n",
              "      <th>4</th>\n",
              "      <td>CatBoost</td>\n",
              "      <td>0.000355</td>\n",
              "      <td>0.012195</td>\n",
              "      <td>0.950231</td>\n",
              "    </tr>\n",
              "  </tbody>\n",
              "</table>\n",
              "</div>\n",
              "    <div class=\"colab-df-buttons\">\n",
              "\n",
              "  <div class=\"colab-df-container\">\n",
              "    <button class=\"colab-df-convert\" onclick=\"convertToInteractive('df-d7621d4f-c8d3-4e8d-b28a-23f33ab42485')\"\n",
              "            title=\"Convert this dataframe to an interactive table.\"\n",
              "            style=\"display:none;\">\n",
              "\n",
              "  <svg xmlns=\"http://www.w3.org/2000/svg\" height=\"24px\" viewBox=\"0 -960 960 960\">\n",
              "    <path d=\"M120-120v-720h720v720H120Zm60-500h600v-160H180v160Zm220 220h160v-160H400v160Zm0 220h160v-160H400v160ZM180-400h160v-160H180v160Zm440 0h160v-160H620v160ZM180-180h160v-160H180v160Zm440 0h160v-160H620v160Z\"/>\n",
              "  </svg>\n",
              "    </button>\n",
              "\n",
              "  <style>\n",
              "    .colab-df-container {\n",
              "      display:flex;\n",
              "      gap: 12px;\n",
              "    }\n",
              "\n",
              "    .colab-df-convert {\n",
              "      background-color: #E8F0FE;\n",
              "      border: none;\n",
              "      border-radius: 50%;\n",
              "      cursor: pointer;\n",
              "      display: none;\n",
              "      fill: #1967D2;\n",
              "      height: 32px;\n",
              "      padding: 0 0 0 0;\n",
              "      width: 32px;\n",
              "    }\n",
              "\n",
              "    .colab-df-convert:hover {\n",
              "      background-color: #E2EBFA;\n",
              "      box-shadow: 0px 1px 2px rgba(60, 64, 67, 0.3), 0px 1px 3px 1px rgba(60, 64, 67, 0.15);\n",
              "      fill: #174EA6;\n",
              "    }\n",
              "\n",
              "    .colab-df-buttons div {\n",
              "      margin-bottom: 4px;\n",
              "    }\n",
              "\n",
              "    [theme=dark] .colab-df-convert {\n",
              "      background-color: #3B4455;\n",
              "      fill: #D2E3FC;\n",
              "    }\n",
              "\n",
              "    [theme=dark] .colab-df-convert:hover {\n",
              "      background-color: #434B5C;\n",
              "      box-shadow: 0px 1px 3px 1px rgba(0, 0, 0, 0.15);\n",
              "      filter: drop-shadow(0px 1px 2px rgba(0, 0, 0, 0.3));\n",
              "      fill: #FFFFFF;\n",
              "    }\n",
              "  </style>\n",
              "\n",
              "    <script>\n",
              "      const buttonEl =\n",
              "        document.querySelector('#df-d7621d4f-c8d3-4e8d-b28a-23f33ab42485 button.colab-df-convert');\n",
              "      buttonEl.style.display =\n",
              "        google.colab.kernel.accessAllowed ? 'block' : 'none';\n",
              "\n",
              "      async function convertToInteractive(key) {\n",
              "        const element = document.querySelector('#df-d7621d4f-c8d3-4e8d-b28a-23f33ab42485');\n",
              "        const dataTable =\n",
              "          await google.colab.kernel.invokeFunction('convertToInteractive',\n",
              "                                                    [key], {});\n",
              "        if (!dataTable) return;\n",
              "\n",
              "        const docLinkHtml = 'Like what you see? Visit the ' +\n",
              "          '<a target=\"_blank\" href=https://colab.research.google.com/notebooks/data_table.ipynb>data table notebook</a>'\n",
              "          + ' to learn more about interactive tables.';\n",
              "        element.innerHTML = '';\n",
              "        dataTable['output_type'] = 'display_data';\n",
              "        await google.colab.output.renderOutput(dataTable, element);\n",
              "        const docLink = document.createElement('div');\n",
              "        docLink.innerHTML = docLinkHtml;\n",
              "        element.appendChild(docLink);\n",
              "      }\n",
              "    </script>\n",
              "  </div>\n",
              "\n",
              "\n",
              "<div id=\"df-ed46f71a-12fb-4352-916b-2f21bef59220\">\n",
              "  <button class=\"colab-df-quickchart\" onclick=\"quickchart('df-ed46f71a-12fb-4352-916b-2f21bef59220')\"\n",
              "            title=\"Suggest charts\"\n",
              "            style=\"display:none;\">\n",
              "\n",
              "<svg xmlns=\"http://www.w3.org/2000/svg\" height=\"24px\"viewBox=\"0 0 24 24\"\n",
              "     width=\"24px\">\n",
              "    <g>\n",
              "        <path d=\"M19 3H5c-1.1 0-2 .9-2 2v14c0 1.1.9 2 2 2h14c1.1 0 2-.9 2-2V5c0-1.1-.9-2-2-2zM9 17H7v-7h2v7zm4 0h-2V7h2v10zm4 0h-2v-4h2v4z\"/>\n",
              "    </g>\n",
              "</svg>\n",
              "  </button>\n",
              "\n",
              "<style>\n",
              "  .colab-df-quickchart {\n",
              "      --bg-color: #E8F0FE;\n",
              "      --fill-color: #1967D2;\n",
              "      --hover-bg-color: #E2EBFA;\n",
              "      --hover-fill-color: #174EA6;\n",
              "      --disabled-fill-color: #AAA;\n",
              "      --disabled-bg-color: #DDD;\n",
              "  }\n",
              "\n",
              "  [theme=dark] .colab-df-quickchart {\n",
              "      --bg-color: #3B4455;\n",
              "      --fill-color: #D2E3FC;\n",
              "      --hover-bg-color: #434B5C;\n",
              "      --hover-fill-color: #FFFFFF;\n",
              "      --disabled-bg-color: #3B4455;\n",
              "      --disabled-fill-color: #666;\n",
              "  }\n",
              "\n",
              "  .colab-df-quickchart {\n",
              "    background-color: var(--bg-color);\n",
              "    border: none;\n",
              "    border-radius: 50%;\n",
              "    cursor: pointer;\n",
              "    display: none;\n",
              "    fill: var(--fill-color);\n",
              "    height: 32px;\n",
              "    padding: 0;\n",
              "    width: 32px;\n",
              "  }\n",
              "\n",
              "  .colab-df-quickchart:hover {\n",
              "    background-color: var(--hover-bg-color);\n",
              "    box-shadow: 0 1px 2px rgba(60, 64, 67, 0.3), 0 1px 3px 1px rgba(60, 64, 67, 0.15);\n",
              "    fill: var(--button-hover-fill-color);\n",
              "  }\n",
              "\n",
              "  .colab-df-quickchart-complete:disabled,\n",
              "  .colab-df-quickchart-complete:disabled:hover {\n",
              "    background-color: var(--disabled-bg-color);\n",
              "    fill: var(--disabled-fill-color);\n",
              "    box-shadow: none;\n",
              "  }\n",
              "\n",
              "  .colab-df-spinner {\n",
              "    border: 2px solid var(--fill-color);\n",
              "    border-color: transparent;\n",
              "    border-bottom-color: var(--fill-color);\n",
              "    animation:\n",
              "      spin 1s steps(1) infinite;\n",
              "  }\n",
              "\n",
              "  @keyframes spin {\n",
              "    0% {\n",
              "      border-color: transparent;\n",
              "      border-bottom-color: var(--fill-color);\n",
              "      border-left-color: var(--fill-color);\n",
              "    }\n",
              "    20% {\n",
              "      border-color: transparent;\n",
              "      border-left-color: var(--fill-color);\n",
              "      border-top-color: var(--fill-color);\n",
              "    }\n",
              "    30% {\n",
              "      border-color: transparent;\n",
              "      border-left-color: var(--fill-color);\n",
              "      border-top-color: var(--fill-color);\n",
              "      border-right-color: var(--fill-color);\n",
              "    }\n",
              "    40% {\n",
              "      border-color: transparent;\n",
              "      border-right-color: var(--fill-color);\n",
              "      border-top-color: var(--fill-color);\n",
              "    }\n",
              "    60% {\n",
              "      border-color: transparent;\n",
              "      border-right-color: var(--fill-color);\n",
              "    }\n",
              "    80% {\n",
              "      border-color: transparent;\n",
              "      border-right-color: var(--fill-color);\n",
              "      border-bottom-color: var(--fill-color);\n",
              "    }\n",
              "    90% {\n",
              "      border-color: transparent;\n",
              "      border-bottom-color: var(--fill-color);\n",
              "    }\n",
              "  }\n",
              "</style>\n",
              "\n",
              "  <script>\n",
              "    async function quickchart(key) {\n",
              "      const quickchartButtonEl =\n",
              "        document.querySelector('#' + key + ' button');\n",
              "      quickchartButtonEl.disabled = true;  // To prevent multiple clicks.\n",
              "      quickchartButtonEl.classList.add('colab-df-spinner');\n",
              "      try {\n",
              "        const charts = await google.colab.kernel.invokeFunction(\n",
              "            'suggestCharts', [key], {});\n",
              "      } catch (error) {\n",
              "        console.error('Error during call to suggestCharts:', error);\n",
              "      }\n",
              "      quickchartButtonEl.classList.remove('colab-df-spinner');\n",
              "      quickchartButtonEl.classList.add('colab-df-quickchart-complete');\n",
              "    }\n",
              "    (() => {\n",
              "      let quickchartButtonEl =\n",
              "        document.querySelector('#df-ed46f71a-12fb-4352-916b-2f21bef59220 button');\n",
              "      quickchartButtonEl.style.display =\n",
              "        google.colab.kernel.accessAllowed ? 'block' : 'none';\n",
              "    })();\n",
              "  </script>\n",
              "</div>\n",
              "    </div>\n",
              "  </div>\n"
            ],
            "text/plain": [
              "           Model       MSE       MAE  R-squared\n",
              "0  Random Forest  0.000339  0.012883   0.952559\n",
              "1            SVM  0.006744  0.065154   0.054960\n",
              "2        XGBoost  0.000360  0.013270   0.949524\n",
              "3       LightGBM  0.000760  0.016832   0.893568\n",
              "4       CatBoost  0.000355  0.012195   0.950231"
            ]
          },
          "execution_count": 117,
          "metadata": {},
          "output_type": "execute_result"
        }
      ],
      "source": [
        "results_df"
      ]
    },
    {
      "cell_type": "markdown",
      "metadata": {
        "id": "Dq5tufQTURZJ"
      },
      "source": []
    },
    {
      "cell_type": "markdown",
      "metadata": {
        "id": "8t1rNWn9URjS"
      },
      "source": []
    },
    {
      "cell_type": "code",
      "execution_count": null,
      "metadata": {
        "colab": {
          "base_uri": "https://localhost:8080/",
          "height": 573
        },
        "id": "Ype2bAd-WSm8",
        "outputId": "6393471c-1b76-4723-9fc2-9c502a3bc8af"
      },
      "outputs": [
        {
          "data": {
            "image/png": "[encoded data removed]",
            "text/plain": [
              "<Figure size 800x600 with 1 Axes>"
            ]
          },
          "metadata": {},
          "output_type": "display_data"
        }
      ],
      "source": [
        "import matplotlib.pyplot as plt\n",
        "import seaborn as sns\n",
        "\n",
        "# Scatter plot of true vs predicted values\n",
        "plt.figure(figsize=(8, 6))\n",
        "sns.scatterplot(x=y_test, y=y_pred)\n",
        "plt.xlabel('True Values')\n",
        "plt.ylabel('Predicted Values')\n",
        "plt.title('True vs Predicted Values for Random Forest')\n",
        "plt.show()\n"
      ]
    },
    {
      "cell_type": "markdown",
      "metadata": {
        "id": "sgQwpq9qy_9h"
      },
      "source": [
        "# TTRRRTTRR"
      ]
    },
    {
      "cell_type": "code",
      "execution_count": null,
      "metadata": {
        "colab": {
          "base_uri": "https://localhost:8080/",
          "height": 573
        },
        "id": "Z3byKWbWK0cn",
        "outputId": "a4def49a-3287-41e6-8c8a-250a607cb9cc"
      },
      "outputs": [
        {
          "data": {
            "image/png": "[encoded data removed]",
            "text/plain": [
              "<Figure size 1200x600 with 2 Axes>"
            ]
          },
          "metadata": {},
          "output_type": "display_data"
        }
      ],
      "source": [
        "import matplotlib.pyplot as plt\n",
        "\n",
        "# Scatter plot for Random Forest\n",
        "plt.figure(figsize=(12, 6))\n",
        "plt.subplot(1, 2, 1)\n",
        "plt.scatter(y_test, y_pred_rf)\n",
        "plt.title('Random Forest: Predicted vs. Actual')\n",
        "plt.xlabel('Actual Values')\n",
        "plt.ylabel('Predicted Values')\n",
        "\n",
        "# Residual plot for Random Forest\n",
        "plt.subplot(1, 2, 2)\n",
        "residuals_rf = y_test - y_pred_rf\n",
        "plt.scatter(y_test, residuals_rf)\n",
        "plt.axhline(y=0, color='r', linestyle='--')\n",
        "plt.title('Random Forest: Residual Plot')\n",
        "plt.xlabel('Actual Values')\n",
        "plt.ylabel('Residuals')\n",
        "plt.show()\n"
      ]
    },
    {
      "cell_type": "code",
      "execution_count": null,
      "metadata": {
        "id": "Cz6P128fLPgY"
      },
      "outputs": [],
      "source": []
    },
    {
      "cell_type": "code",
      "execution_count": null,
      "metadata": {
        "colab": {
          "base_uri": "https://localhost:8080/",
          "height": 610
        },
        "id": "6NA1jB8pLS8z",
        "outputId": "68a23e4d-c932-4a8e-8e61-64f9ea8ada37"
      },
      "outputs": [
        {
          "data": {
            "image/png": "[encoded data removed]",
            "text/plain": [
              "<Figure size 1000x600 with 1 Axes>"
            ]
          },
          "metadata": {},
          "output_type": "display_data"
        }
      ],
      "source": [
        "import matplotlib.pyplot as plt\n",
        "from sklearn.ensemble import RandomForestRegressor\n",
        "\n",
        "# Assuming 'rf_model' is your trained Random Forest model\n",
        "rf_model = RandomForestRegressor(n_estimators=100, random_state=42)\n",
        "rf_model.fit(X_train, y_train)\n",
        "\n",
        "# Get feature importances\n",
        "feature_importances = rf_model.feature_importances_\n",
        "\n",
        "# Get feature names\n",
        "feature_names = X_train.columns\n",
        "\n",
        "# Sort feature importances in descending order\n",
        "sorted_idx = feature_importances.argsort()[::-1]\n",
        "\n",
        "# Plot the feature importances\n",
        "plt.figure(figsize=(10, 6))\n",
        "plt.bar(range(len(feature_importances)), feature_importances[sorted_idx])\n",
        "plt.xticks(range(len(feature_importances)), feature_names[sorted_idx], rotation=45)\n",
        "plt.title('Random Forest Feature Importance')\n",
        "plt.show()\n"
      ]
    },
    {
      "cell_type": "code",
      "execution_count": null,
      "metadata": {
        "id": "x3CEJxQVK0pY"
      },
      "outputs": [],
      "source": []
    },
    {
      "cell_type": "code",
      "execution_count": null,
      "metadata": {
        "id": "qPQmcBhRM3Ys"
      },
      "outputs": [],
      "source": []
    },
    {
      "cell_type": "markdown",
      "metadata": {
        "id": "DveGxrPMTiRi"
      },
      "source": []
    },
    {
      "cell_type": "markdown",
      "metadata": {
        "id": "81Y9GsW-Tif6"
      },
      "source": []
    },
    {
      "cell_type": "code",
      "execution_count": null,
      "metadata": {
        "colab": {
          "base_uri": "https://localhost:8080/",
          "height": 573
        },
        "id": "R8bZSjcuTixp",
        "outputId": "46a82bce-4e01-4edc-9306-164661bd5f65"
      },
      "outputs": [
        {
          "data": {
            "image/png": "[encoded data removed]",
            "text/plain": [
              "<Figure size 1000x600 with 1 Axes>"
            ]
          },
          "metadata": {},
          "output_type": "display_data"
        }
      ],
      "source": [
        "import matplotlib.pyplot as plt\n",
        "from sklearn.ensemble import RandomForestRegressor\n",
        "\n",
        "# Assuming 'rf_model' is your trained Random Forest model\n",
        "rf_model = RandomForestRegressor(n_estimators=100, random_state=42)\n",
        "rf_model.fit(X_train, y_train)\n",
        "\n",
        "# Get feature importances\n",
        "feature_importances = rf_model.feature_importances_\n",
        "\n",
        "# Get feature names\n",
        "feature_names = X_train.columns\n",
        "\n",
        "# Sort feature importances in descending order\n",
        "sorted_idx = feature_importances.argsort()[::-1]\n",
        "\n",
        "# Plot the feature importances as horizontal bars\n",
        "plt.figure(figsize=(10, 6))\n",
        "plt.barh(range(len(feature_importances)), feature_importances[sorted_idx])\n",
        "plt.yticks(range(len(feature_importances)), feature_names[sorted_idx])\n",
        "plt.title('Random Forest Feature Importance (Horizontal)')\n",
        "plt.xlabel('Feature Importance')\n",
        "plt.show()\n"
      ]
    },
    {
      "cell_type": "code",
      "execution_count": null,
      "metadata": {
        "colab": {
          "base_uri": "https://localhost:8080/"
        },
        "id": "RUO44BF0M3j4",
        "outputId": "14001744-ff64-44eb-f6ae-330a72124847"
      },
      "outputs": [
        {
          "name": "stdout",
          "output_type": "stream",
          "text": [
            "ANN Mean Squared Error: 0.1626290165560746\n"
          ]
        }
      ],
      "source": [
        "from sklearn.neural_network import MLPRegressor\n",
        "from sklearn.model_selection import train_test_split\n",
        "from sklearn.metrics import mean_squared_error\n",
        "\n",
        "# Assuming 'features' and 'target' are your feature matrix and target variable\n",
        "X_train, X_test, y_train, y_test = train_test_split(features, target, test_size=0.2, random_state=42)\n",
        "\n",
        "# Define your ANN model\n",
        "ann_model = MLPRegressor(hidden_layer_sizes=(100, 50), activation='relu', max_iter=500, random_state=42)\n",
        "\n",
        "# Train the ANN model\n",
        "ann_model.fit(X_train, y_train)\n",
        "\n",
        "# Predict on the test set\n",
        "ann_predictions = ann_model.predict(X_test)\n",
        "\n",
        "# Evaluate the ANN model\n",
        "ann_mse = mean_squared_error(y_test, ann_predictions)\n",
        "\n",
        "print(f\"ANN Mean Squared Error: {ann_mse}\")\n"
      ]
    },
    {
      "cell_type": "markdown",
      "metadata": {
        "id": "Df9sLstXeI6G"
      },
      "source": []
    },
    {
      "cell_type": "markdown",
      "metadata": {
        "id": "Reo9jgsOeJJm"
      },
      "source": [
        "# Fit a Response Surface Model"
      ]
    },
    {
      "cell_type": "code",
      "execution_count": null,
      "metadata": {
        "id": "fO09V4RIeUAO"
      },
      "outputs": [],
      "source": [
        "dfsrm=df_no_outliers"
      ]
    },
    {
      "cell_type": "code",
      "execution_count": null,
      "metadata": {
        "colab": {
          "base_uri": "https://localhost:8080/",
          "height": 300
        },
        "id": "dImKvCKleV0W",
        "outputId": "a384436d-1e98-4996-a485-274f88dd9b0c"
      },
      "outputs": [
        {
          "data": {
            "text/html": [
              "\n",
              "  <div id=\"df-7d45c1ed-0cc9-4d5d-997e-ab1924ae8f88\" class=\"colab-df-container\">\n",
              "    <div>\n",
              "<style scoped>\n",
              "    .dataframe tbody tr th:only-of-type {\n",
              "        vertical-align: middle;\n",
              "    }\n",
              "\n",
              "    .dataframe tbody tr th {\n",
              "        vertical-align: top;\n",
              "    }\n",
              "\n",
              "    .dataframe thead th {\n",
              "        text-align: right;\n",
              "    }\n",
              "</style>\n",
              "<table border=\"1\" class=\"dataframe\">\n",
              "  <thead>\n",
              "    <tr style=\"text-align: right;\">\n",
              "      <th></th>\n",
              "      <th>Day</th>\n",
              "      <th>Time</th>\n",
              "      <th>Pmax</th>\n",
              "      <th>Imax</th>\n",
              "      <th>Umax</th>\n",
              "      <th>FF_raw</th>\n",
              "      <th>Temp</th>\n",
              "      <th>Wind speed</th>\n",
              "      <th>Humidity</th>\n",
              "      <th>Air perssure</th>\n",
              "    </tr>\n",
              "  </thead>\n",
              "  <tbody>\n",
              "    <tr>\n",
              "      <th>count</th>\n",
              "      <td>516.000000</td>\n",
              "      <td>516.000000</td>\n",
              "      <td>516.000000</td>\n",
              "      <td>516.000000</td>\n",
              "      <td>516.000000</td>\n",
              "      <td>516.000000</td>\n",
              "      <td>516.000000</td>\n",
              "      <td>516.000000</td>\n",
              "      <td>516.000000</td>\n",
              "      <td>516.000000</td>\n",
              "    </tr>\n",
              "    <tr>\n",
              "      <th>mean</th>\n",
              "      <td>0.508398</td>\n",
              "      <td>0.509463</td>\n",
              "      <td>0.565072</td>\n",
              "      <td>0.549686</td>\n",
              "      <td>0.621096</td>\n",
              "      <td>0.479629</td>\n",
              "      <td>0.619064</td>\n",
              "      <td>0.422829</td>\n",
              "      <td>0.303239</td>\n",
              "      <td>0.412629</td>\n",
              "    </tr>\n",
              "    <tr>\n",
              "      <th>std</th>\n",
              "      <td>0.335164</td>\n",
              "      <td>0.280588</td>\n",
              "      <td>0.311973</td>\n",
              "      <td>0.321033</td>\n",
              "      <td>0.208198</td>\n",
              "      <td>0.304807</td>\n",
              "      <td>0.238961</td>\n",
              "      <td>0.192629</td>\n",
              "      <td>0.254119</td>\n",
              "      <td>0.295837</td>\n",
              "    </tr>\n",
              "    <tr>\n",
              "      <th>min</th>\n",
              "      <td>0.000000</td>\n",
              "      <td>0.000000</td>\n",
              "      <td>0.000000</td>\n",
              "      <td>0.000000</td>\n",
              "      <td>0.000000</td>\n",
              "      <td>0.000000</td>\n",
              "      <td>0.000000</td>\n",
              "      <td>0.000000</td>\n",
              "      <td>0.000000</td>\n",
              "      <td>0.000000</td>\n",
              "    </tr>\n",
              "    <tr>\n",
              "      <th>25%</th>\n",
              "      <td>0.166667</td>\n",
              "      <td>0.272727</td>\n",
              "      <td>0.278825</td>\n",
              "      <td>0.246086</td>\n",
              "      <td>0.487467</td>\n",
              "      <td>0.201550</td>\n",
              "      <td>0.470588</td>\n",
              "      <td>0.301535</td>\n",
              "      <td>0.096154</td>\n",
              "      <td>0.166667</td>\n",
              "    </tr>\n",
              "    <tr>\n",
              "      <th>50%</th>\n",
              "      <td>0.500000</td>\n",
              "      <td>0.506494</td>\n",
              "      <td>0.644678</td>\n",
              "      <td>0.603474</td>\n",
              "      <td>0.617414</td>\n",
              "      <td>0.449612</td>\n",
              "      <td>0.647059</td>\n",
              "      <td>0.385965</td>\n",
              "      <td>0.264423</td>\n",
              "      <td>0.333333</td>\n",
              "    </tr>\n",
              "    <tr>\n",
              "      <th>75%</th>\n",
              "      <td>0.833333</td>\n",
              "      <td>0.753247</td>\n",
              "      <td>0.852273</td>\n",
              "      <td>0.855002</td>\n",
              "      <td>0.796834</td>\n",
              "      <td>0.798450</td>\n",
              "      <td>0.831933</td>\n",
              "      <td>0.587719</td>\n",
              "      <td>0.454327</td>\n",
              "      <td>0.666667</td>\n",
              "    </tr>\n",
              "    <tr>\n",
              "      <th>max</th>\n",
              "      <td>1.000000</td>\n",
              "      <td>1.000000</td>\n",
              "      <td>1.000000</td>\n",
              "      <td>1.000000</td>\n",
              "      <td>1.000000</td>\n",
              "      <td>1.000000</td>\n",
              "      <td>1.000000</td>\n",
              "      <td>1.000000</td>\n",
              "      <td>1.000000</td>\n",
              "      <td>1.000000</td>\n",
              "    </tr>\n",
              "  </tbody>\n",
              "</table>\n",
              "</div>\n",
              "    <div class=\"colab-df-buttons\">\n",
              "\n",
              "  <div class=\"colab-df-container\">\n",
              "    <button class=\"colab-df-convert\" onclick=\"convertToInteractive('df-7d45c1ed-0cc9-4d5d-997e-ab1924ae8f88')\"\n",
              "            title=\"Convert this dataframe to an interactive table.\"\n",
              "            style=\"display:none;\">\n",
              "\n",
              "  <svg xmlns=\"http://www.w3.org/2000/svg\" height=\"24px\" viewBox=\"0 -960 960 960\">\n",
              "    <path d=\"M120-120v-720h720v720H120Zm60-500h600v-160H180v160Zm220 220h160v-160H400v160Zm0 220h160v-160H400v160ZM180-400h160v-160H180v160Zm440 0h160v-160H620v160ZM180-180h160v-160H180v160Zm440 0h160v-160H620v160Z\"/>\n",
              "  </svg>\n",
              "    </button>\n",
              "\n",
              "  <style>\n",
              "    .colab-df-container {\n",
              "      display:flex;\n",
              "      gap: 12px;\n",
              "    }\n",
              "\n",
              "    .colab-df-convert {\n",
              "      background-color: #E8F0FE;\n",
              "      border: none;\n",
              "      border-radius: 50%;\n",
              "      cursor: pointer;\n",
              "      display: none;\n",
              "      fill: #1967D2;\n",
              "      height: 32px;\n",
              "      padding: 0 0 0 0;\n",
              "      width: 32px;\n",
              "    }\n",
              "\n",
              "    .colab-df-convert:hover {\n",
              "      background-color: #E2EBFA;\n",
              "      box-shadow: 0px 1px 2px rgba(60, 64, 67, 0.3), 0px 1px 3px 1px rgba(60, 64, 67, 0.15);\n",
              "      fill: #174EA6;\n",
              "    }\n",
              "\n",
              "    .colab-df-buttons div {\n",
              "      margin-bottom: 4px;\n",
              "    }\n",
              "\n",
              "    [theme=dark] .colab-df-convert {\n",
              "      background-color: #3B4455;\n",
              "      fill: #D2E3FC;\n",
              "    }\n",
              "\n",
              "    [theme=dark] .colab-df-convert:hover {\n",
              "      background-color: #434B5C;\n",
              "      box-shadow: 0px 1px 3px 1px rgba(0, 0, 0, 0.15);\n",
              "      filter: drop-shadow(0px 1px 2px rgba(0, 0, 0, 0.3));\n",
              "      fill: #FFFFFF;\n",
              "    }\n",
              "  </style>\n",
              "\n",
              "    <script>\n",
              "      const buttonEl =\n",
              "        document.querySelector('#df-7d45c1ed-0cc9-4d5d-997e-ab1924ae8f88 button.colab-df-convert');\n",
              "      buttonEl.style.display =\n",
              "        google.colab.kernel.accessAllowed ? 'block' : 'none';\n",
              "\n",
              "      async function convertToInteractive(key) {\n",
              "        const element = document.querySelector('#df-7d45c1ed-0cc9-4d5d-997e-ab1924ae8f88');\n",
              "        const dataTable =\n",
              "          await google.colab.kernel.invokeFunction('convertToInteractive',\n",
              "                                                    [key], {});\n",
              "        if (!dataTable) return;\n",
              "\n",
              "        const docLinkHtml = 'Like what you see? Visit the ' +\n",
              "          '<a target=\"_blank\" href=https://colab.research.google.com/notebooks/data_table.ipynb>data table notebook</a>'\n",
              "          + ' to learn more about interactive tables.';\n",
              "        element.innerHTML = '';\n",
              "        dataTable['output_type'] = 'display_data';\n",
              "        await google.colab.output.renderOutput(dataTable, element);\n",
              "        const docLink = document.createElement('div');\n",
              "        docLink.innerHTML = docLinkHtml;\n",
              "        element.appendChild(docLink);\n",
              "      }\n",
              "    </script>\n",
              "  </div>\n",
              "\n",
              "\n",
              "<div id=\"df-2463bd01-2933-4960-b9b5-ba6ffd01e39c\">\n",
              "  <button class=\"colab-df-quickchart\" onclick=\"quickchart('df-2463bd01-2933-4960-b9b5-ba6ffd01e39c')\"\n",
              "            title=\"Suggest charts\"\n",
              "            style=\"display:none;\">\n",
              "\n",
              "<svg xmlns=\"http://www.w3.org/2000/svg\" height=\"24px\"viewBox=\"0 0 24 24\"\n",
              "     width=\"24px\">\n",
              "    <g>\n",
              "        <path d=\"M19 3H5c-1.1 0-2 .9-2 2v14c0 1.1.9 2 2 2h14c1.1 0 2-.9 2-2V5c0-1.1-.9-2-2-2zM9 17H7v-7h2v7zm4 0h-2V7h2v10zm4 0h-2v-4h2v4z\"/>\n",
              "    </g>\n",
              "</svg>\n",
              "  </button>\n",
              "\n",
              "<style>\n",
              "  .colab-df-quickchart {\n",
              "      --bg-color: #E8F0FE;\n",
              "      --fill-color: #1967D2;\n",
              "      --hover-bg-color: #E2EBFA;\n",
              "      --hover-fill-color: #174EA6;\n",
              "      --disabled-fill-color: #AAA;\n",
              "      --disabled-bg-color: #DDD;\n",
              "  }\n",
              "\n",
              "  [theme=dark] .colab-df-quickchart {\n",
              "      --bg-color: #3B4455;\n",
              "      --fill-color: #D2E3FC;\n",
              "      --hover-bg-color: #434B5C;\n",
              "      --hover-fill-color: #FFFFFF;\n",
              "      --disabled-bg-color: #3B4455;\n",
              "      --disabled-fill-color: #666;\n",
              "  }\n",
              "\n",
              "  .colab-df-quickchart {\n",
              "    background-color: var(--bg-color);\n",
              "    border: none;\n",
              "    border-radius: 50%;\n",
              "    cursor: pointer;\n",
              "    display: none;\n",
              "    fill: var(--fill-color);\n",
              "    height: 32px;\n",
              "    padding: 0;\n",
              "    width: 32px;\n",
              "  }\n",
              "\n",
              "  .colab-df-quickchart:hover {\n",
              "    background-color: var(--hover-bg-color);\n",
              "    box-shadow: 0 1px 2px rgba(60, 64, 67, 0.3), 0 1px 3px 1px rgba(60, 64, 67, 0.15);\n",
              "    fill: var(--button-hover-fill-color);\n",
              "  }\n",
              "\n",
              "  .colab-df-quickchart-complete:disabled,\n",
              "  .colab-df-quickchart-complete:disabled:hover {\n",
              "    background-color: var(--disabled-bg-color);\n",
              "    fill: var(--disabled-fill-color);\n",
              "    box-shadow: none;\n",
              "  }\n",
              "\n",
              "  .colab-df-spinner {\n",
              "    border: 2px solid var(--fill-color);\n",
              "    border-color: transparent;\n",
              "    border-bottom-color: var(--fill-color);\n",
              "    animation:\n",
              "      spin 1s steps(1) infinite;\n",
              "  }\n",
              "\n",
              "  @keyframes spin {\n",
              "    0% {\n",
              "      border-color: transparent;\n",
              "      border-bottom-color: var(--fill-color);\n",
              "      border-left-color: var(--fill-color);\n",
              "    }\n",
              "    20% {\n",
              "      border-color: transparent;\n",
              "      border-left-color: var(--fill-color);\n",
              "      border-top-color: var(--fill-color);\n",
              "    }\n",
              "    30% {\n",
              "      border-color: transparent;\n",
              "      border-left-color: var(--fill-color);\n",
              "      border-top-color: var(--fill-color);\n",
              "      border-right-color: var(--fill-color);\n",
              "    }\n",
              "    40% {\n",
              "      border-color: transparent;\n",
              "      border-right-color: var(--fill-color);\n",
              "      border-top-color: var(--fill-color);\n",
              "    }\n",
              "    60% {\n",
              "      border-color: transparent;\n",
              "      border-right-color: var(--fill-color);\n",
              "    }\n",
              "    80% {\n",
              "      border-color: transparent;\n",
              "      border-right-color: var(--fill-color);\n",
              "      border-bottom-color: var(--fill-color);\n",
              "    }\n",
              "    90% {\n",
              "      border-color: transparent;\n",
              "      border-bottom-color: var(--fill-color);\n",
              "    }\n",
              "  }\n",
              "</style>\n",
              "\n",
              "  <script>\n",
              "    async function quickchart(key) {\n",
              "      const quickchartButtonEl =\n",
              "        document.querySelector('#' + key + ' button');\n",
              "      quickchartButtonEl.disabled = true;  // To prevent multiple clicks.\n",
              "      quickchartButtonEl.classList.add('colab-df-spinner');\n",
              "      try {\n",
              "        const charts = await google.colab.kernel.invokeFunction(\n",
              "            'suggestCharts', [key], {});\n",
              "      } catch (error) {\n",
              "        console.error('Error during call to suggestCharts:', error);\n",
              "      }\n",
              "      quickchartButtonEl.classList.remove('colab-df-spinner');\n",
              "      quickchartButtonEl.classList.add('colab-df-quickchart-complete');\n",
              "    }\n",
              "    (() => {\n",
              "      let quickchartButtonEl =\n",
              "        document.querySelector('#df-2463bd01-2933-4960-b9b5-ba6ffd01e39c button');\n",
              "      quickchartButtonEl.style.display =\n",
              "        google.colab.kernel.accessAllowed ? 'block' : 'none';\n",
              "    })();\n",
              "  </script>\n",
              "</div>\n",
              "    </div>\n",
              "  </div>\n"
            ],
            "text/plain": [
              "              Day        Time        Pmax        Imax        Umax      FF_raw  \\\n",
              "count  516.000000  516.000000  516.000000  516.000000  516.000000  516.000000   \n",
              "mean     0.508398    0.509463    0.565072    0.549686    0.621096    0.479629   \n",
              "std      0.335164    0.280588    0.311973    0.321033    0.208198    0.304807   \n",
              "min      0.000000    0.000000    0.000000    0.000000    0.000000    0.000000   \n",
              "25%      0.166667    0.272727    0.278825    0.246086    0.487467    0.201550   \n",
              "50%      0.500000    0.506494    0.644678    0.603474    0.617414    0.449612   \n",
              "75%      0.833333    0.753247    0.852273    0.855002    0.796834    0.798450   \n",
              "max      1.000000    1.000000    1.000000    1.000000    1.000000    1.000000   \n",
              "\n",
              "             Temp  Wind speed    Humidity  Air perssure  \n",
              "count  516.000000  516.000000  516.000000    516.000000  \n",
              "mean     0.619064    0.422829    0.303239      0.412629  \n",
              "std      0.238961    0.192629    0.254119      0.295837  \n",
              "min      0.000000    0.000000    0.000000      0.000000  \n",
              "25%      0.470588    0.301535    0.096154      0.166667  \n",
              "50%      0.647059    0.385965    0.264423      0.333333  \n",
              "75%      0.831933    0.587719    0.454327      0.666667  \n",
              "max      1.000000    1.000000    1.000000      1.000000  "
            ]
          },
          "execution_count": 57,
          "metadata": {},
          "output_type": "execute_result"
        }
      ],
      "source": [
        "dfsrm.describe()"
      ]
    },
    {
      "cell_type": "code",
      "execution_count": null,
      "metadata": {
        "colab": {
          "base_uri": "https://localhost:8080/"
        },
        "id": "R1Uq-sdee3el",
        "outputId": "96fd97ae-5546-4f39-b066-f8981550a562"
      },
      "outputs": [
        {
          "name": "stdout",
          "output_type": "stream",
          "text": [
            "                            OLS Regression Results                            \n",
            "==============================================================================\n",
            "Dep. Variable:                   Umax   R-squared:                       0.226\n",
            "Model:                            OLS   Adj. R-squared:                  0.220\n",
            "Method:                 Least Squares   F-statistic:                     39.67\n",
            "Date:                Wed, 29 Nov 2023   Prob (F-statistic):           1.63e-22\n",
            "Time:                        19:08:29   Log-Likelihood:                 123.04\n",
            "No. Observations:                 412   AIC:                            -238.1\n",
            "Df Residuals:                     408   BIC:                            -222.0\n",
            "Df Model:                           3                                         \n",
            "Covariance Type:            nonrobust                                         \n",
            "================================================================================\n",
            "                   coef    std err          t      P>|t|      [0.025      0.975]\n",
            "--------------------------------------------------------------------------------\n",
            "const            0.4244      0.024     17.765      0.000       0.377       0.471\n",
            "Wind speed       0.1800      0.050      3.568      0.000       0.081       0.279\n",
            "Humidity         0.0807      0.039      2.075      0.039       0.004       0.157\n",
            "Air perssure     0.2394      0.035      6.756      0.000       0.170       0.309\n",
            "==============================================================================\n",
            "Omnibus:                       65.806   Durbin-Watson:                   2.021\n",
            "Prob(Omnibus):                  0.000   Jarque-Bera (JB):              104.678\n",
            "Skew:                          -0.981   Prob(JB):                     1.86e-23\n",
            "Kurtosis:                       4.500   Cond. No.                         7.72\n",
            "==============================================================================\n",
            "\n",
            "Notes:\n",
            "[1] Standard Errors assume that the covariance matrix of the errors is correctly specified.\n"
          ]
        }
      ],
      "source": [
        "import statsmodels.api as sm\n",
        "from sklearn.model_selection import train_test_split\n",
        "\n",
        "# Assuming dfsrm is your preprocessed DataFrame\n",
        "features = dfsrm[['Wind speed', 'Humidity', 'Air perssure']]\n",
        "response = dfsrm['Umax']\n",
        "\n",
        "# Split data into training and testing sets\n",
        "X_train, X_test, y_train, y_test = train_test_split(features, response, test_size=0.2, random_state=42)\n",
        "\n",
        "# Fit a quadratic model\n",
        "X_train_poly = sm.add_constant(X_train)\n",
        "model = sm.OLS(y_train, X_train_poly).fit()\n",
        "\n",
        "# Print the model summary\n",
        "print(model.summary())\n"
      ]
    },
    {
      "cell_type": "markdown",
      "metadata": {
        "id": "9_1PO6l5fr2B"
      },
      "source": []
    },
    {
      "cell_type": "markdown",
      "metadata": {
        "id": "Z_OBHfmKfsDo"
      },
      "source": []
    },
    {
      "cell_type": "code",
      "execution_count": null,
      "metadata": {
        "colab": {
          "base_uri": "https://localhost:8080/"
        },
        "id": "D1ub7AyDfsm1",
        "outputId": "6ab4fde8-e8e7-4659-c281-94c0048933dd"
      },
      "outputs": [
        {
          "name": "stdout",
          "output_type": "stream",
          "text": [
            "Optimal Factor Values: [1. 1. 1.]\n",
            "Max Solar Panel Efficiency: 0.9245000000000001\n"
          ]
        }
      ],
      "source": [
        "import numpy as np\n",
        "from scipy.optimize import minimize\n",
        "\n",
        "# Fitted coefficients from the regression model\n",
        "const_coef = 0.4244\n",
        "wind_coef = 0.1800\n",
        "humidity_coef = 0.0807\n",
        "pressure_coef = 0.2394\n",
        "\n",
        "# Define the objective function (negative to convert maximization to minimization)\n",
        "def objective_function(x):\n",
        "    wind_speed, humidity, air_pressure = x\n",
        "    predicted_efficiency = const_coef + wind_coef * wind_speed + humidity_coef * humidity + pressure_coef * air_pressure\n",
        "    return -predicted_efficiency  # Negative to convert maximization to minimization\n",
        "\n",
        "# Set optimization bounds for each factor\n",
        "bounds = [(0, 1), (0, 1), (0, 1)]  # Adjust these based on your specific range\n",
        "\n",
        "# Initial guess for factor values\n",
        "initial_guess = [0.5, 0.5, 0.5]  # Adjust based on your specific context\n",
        "\n",
        "# Perform optimization\n",
        "result = minimize(objective_function, initial_guess, bounds=bounds)\n",
        "\n",
        "# Retrieve optimal factor values\n",
        "optimal_factors = result.x\n",
        "max_efficiency = -result.fun  # Convert back to maximization\n",
        "\n",
        "print(\"Optimal Factor Values:\", optimal_factors)\n",
        "print(\"Max Solar Panel Efficiency:\", max_efficiency)\n"
      ]
    }
  ],
  "metadata": {
    "colab": {
      "provenance": []
    },
    "kernelspec": {
      "display_name": "Python 3",
      "name": "python3"
    },
    "language_info": {
      "codemirror_mode": {
        "name": "ipython",
        "version": 3
      },
      "file_extension": ".py",
      "mimetype": "text/x-python",
      "name": "python",
      "nbconvert_exporter": "python",
      "pygments_lexer": "ipython3",
      "version": "3.10.11"
    }
  },
  "nbformat": 4,
  "nbformat_minor": 0
}
